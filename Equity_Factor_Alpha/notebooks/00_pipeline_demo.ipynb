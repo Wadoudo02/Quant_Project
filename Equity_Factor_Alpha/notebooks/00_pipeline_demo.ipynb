{
 "cells": [
  {
   "cell_type": "code",
   "execution_count": 7,
   "id": "aaa4bb6a",
   "metadata": {},
   "outputs": [
    {
     "name": "stdout",
     "output_type": "stream",
     "text": [
      "Project root: /Users/wadoudcharbak/Documents/GitHub/Quant_Project\n"
     ]
    }
   ],
   "source": [
    "# <AUTOGEN_PATH_SETUP>\n",
    "# Ensure project root is on import path & set CWD\n",
    "import sys\n",
    "import os\n",
    "from pathlib import Path\n",
    "\n",
    "cwd = Path.cwd().resolve()\n",
    "if \"notebooks\" in cwd.parts:\n",
    "    root = Path(*cwd.parts[: cwd.parts.index(\"notebooks\")])\n",
    "else:\n",
    "    root = cwd.parent\n",
    "if str(root) not in sys.path:\n",
    "    sys.path.insert(0, str(root))\n",
    "os.chdir(root)\n",
    "print(\"Project root:\", root)"
   ]
  },
  {
   "cell_type": "markdown",
   "id": "1cfa717a",
   "metadata": {},
   "source": [
    "# 00 End‑to‑End Pipeline Demo\n",
    "This notebook mirrors **`run_efa.py`** step‑by‑step so you can run, inspect, and tweak each stage interactively."
   ]
  },
  {
   "cell_type": "code",
   "execution_count": 8,
   "id": "2ead269b",
   "metadata": {},
   "outputs": [],
   "source": [
    "from pathlib import Path\n",
    "import logging\n",
    "\n",
    "from src.config import cfg\n",
    "from src.data_loader import get_all_equities\n",
    "from src.features import add_returns, add_rolling_features, prepare_feature_matrix\n",
    "from src.model import train_model, predict\n",
    "from src.backtest import run_backtest\n",
    "from src.plotting import plot_equity\n",
    "\n",
    "logging.basicConfig(\n",
    "    level=logging.INFO, format=\"%(asctime)s | %(levelname)s | %(message)s\"\n",
    ")\n",
    "logger = logging.getLogger(__name__)"
   ]
  },
  {
   "cell_type": "markdown",
   "id": "1f172c19",
   "metadata": {},
   "source": [
    "## 1 – Load configuration"
   ]
  },
  {
   "cell_type": "code",
   "execution_count": 9,
   "id": "71c25473",
   "metadata": {},
   "outputs": [
    {
     "data": {
      "text/plain": [
       "{'project': {'name': 'Equity Factor Alpha Engine', 'version': '0.1.0'},\n",
       " 'base_currency': 'GBP',\n",
       " 'assets': [{'ticker': 'LMT'},\n",
       "  {'ticker': 'RTX'},\n",
       "  {'ticker': 'BA'},\n",
       "  {'ticker': 'NOC'},\n",
       "  {'ticker': 'GD'},\n",
       "  {'ticker': 'HII'},\n",
       "  {'ticker': 'TDG'},\n",
       "  {'ticker': 'TXT'},\n",
       "  {'ticker': 'LHX'},\n",
       "  {'ticker': 'BA.'}],\n",
       " 'start_date': '2023-10-01',\n",
       " 'end_date': None,\n",
       " 'features': {'return_col': 'returns', 'windows': [5, 20, 60]},\n",
       " 'model': {'objective': 'reg:squarederror',\n",
       "  'max_depth': 3,\n",
       "  'learning_rate': 0.1,\n",
       "  'n_estimators': 200,\n",
       "  'subsample': 0.8,\n",
       "  'colsample_bytree': 0.8},\n",
       " 'backtest': {'hold_days': 5,\n",
       "  'top_n': 2,\n",
       "  'notional': 1000,\n",
       "  'fee_bps': 0.0,\n",
       "  'risk_free_rate': 0.0},\n",
       " 'paths': {'data_raw': 'data_raw',\n",
       "  'data_proc': 'data_proc',\n",
       "  'outputs': 'outputs',\n",
       "  'logs': 'logs'}}"
      ]
     },
     "execution_count": 9,
     "metadata": {},
     "output_type": "execute_result"
    }
   ],
   "source": [
    "p = cfg()\n",
    "p"
   ]
  },
  {
   "cell_type": "markdown",
   "id": "77373445",
   "metadata": {},
   "source": [
    "## 2 – Choose asset universe"
   ]
  },
  {
   "cell_type": "code",
   "execution_count": 10,
   "id": "0845cfdd",
   "metadata": {},
   "outputs": [
    {
     "name": "stdout",
     "output_type": "stream",
     "text": [
      "Selected assets: ['LMT', 'RTX', 'BA', 'NOC', 'GD', 'HII', 'TDG', 'TXT', 'LHX', 'BA.']\n"
     ]
    }
   ],
   "source": [
    "selected_assets = [a[\"ticker\"] for a in p[\"assets\"]]\n",
    "print(\"Selected assets:\", selected_assets)"
   ]
  },
  {
   "cell_type": "markdown",
   "id": "7b8a71c0",
   "metadata": {},
   "source": [
    "## 3 – Download / cache price data"
   ]
  },
  {
   "cell_type": "code",
   "execution_count": 11,
   "id": "8c0ea4cc",
   "metadata": {},
   "outputs": [
    {
     "name": "stdout",
     "output_type": "stream",
     "text": [
      "Warning: 'date'.  Generating synthetic data for LMT.\n",
      "Warning: 'date'.  Generating synthetic data for RTX.\n",
      "Warning: 'date'.  Generating synthetic data for NOC.\n",
      "Warning: 'date'.  Generating synthetic data for GD.\n",
      "Warning: 'date'.  Generating synthetic data for HII.\n",
      "Warning: 'date'.  Generating synthetic data for TDG.\n",
      "Warning: 'date'.  Generating synthetic data for TXT.\n",
      "Warning: 'date'.  Generating synthetic data for LHX.\n"
     ]
    },
    {
     "name": "stderr",
     "output_type": "stream",
     "text": [
      "2025-07-29 11:50:23,699 | INFO | Loaded price data for 10 tickers\n"
     ]
    },
    {
     "name": "stdout",
     "output_type": "stream",
     "text": [
      "Warning: 'date'.  Generating synthetic data for BA..\n"
     ]
    },
    {
     "data": {
      "text/plain": [
       "[('LMT',\n",
       "                                   open        high        low       close  \\\n",
       "  2023-07-03 00:00:00+00:00  100.065075  100.195250  99.794764   99.991765   \n",
       "  2023-07-04 00:00:00+00:00   99.804382   99.954287  99.748625   99.933111   \n",
       "  2023-07-05 00:00:00+00:00   99.883516  100.065102  99.586534   99.696433   \n",
       "  2023-07-06 00:00:00+00:00   99.999681  100.278484  99.979985  100.191355   \n",
       "  2023-07-07 00:00:00+00:00   99.654136   99.778123  99.597277   99.709947   \n",
       "  ...                               ...         ...        ...         ...   \n",
       "  2024-06-24 00:00:00+00:00   79.499276   79.641032  79.343490   79.407336   \n",
       "  2024-06-25 00:00:00+00:00   79.164136   79.242147  79.139086   79.191852   \n",
       "  2024-06-26 00:00:00+00:00   78.222942   78.433888  78.188955   78.334329   \n",
       "  2024-06-27 00:00:00+00:00   78.110331   78.257458  78.064541   78.232799   \n",
       "  2024-06-28 00:00:00+00:00   77.871631   77.966047  77.780614   77.951345   \n",
       "  \n",
       "                                  volume  \n",
       "  2023-07-03 00:00:00+00:00  1494.702476  \n",
       "  2023-07-04 00:00:00+00:00  1318.430396  \n",
       "  2023-07-05 00:00:00+00:00   937.797519  \n",
       "  2023-07-06 00:00:00+00:00  1113.179030  \n",
       "  2023-07-07 00:00:00+00:00  1508.975010  \n",
       "  ...                                ...  \n",
       "  2024-06-24 00:00:00+00:00   500.319615  \n",
       "  2024-06-25 00:00:00+00:00   589.519346  \n",
       "  2024-06-26 00:00:00+00:00  1561.328265  \n",
       "  2024-06-27 00:00:00+00:00  1486.179050  \n",
       "  2024-06-28 00:00:00+00:00  1122.579510  \n",
       "  \n",
       "  [260 rows x 5 columns]),\n",
       " ('RTX',\n",
       "                                   open        high         low       close  \\\n",
       "  2023-07-03 00:00:00+00:00  100.932479  100.995534  100.650475  100.767215   \n",
       "  2023-07-04 00:00:00+00:00   99.493058   99.719338   99.361558   99.704285   \n",
       "  2023-07-05 00:00:00+00:00   98.136338   98.146667   98.041279   98.119062   \n",
       "  2023-07-06 00:00:00+00:00  100.035641  100.208736   99.865851   99.872597   \n",
       "  2023-07-07 00:00:00+00:00   98.586999   98.698294   98.416241   98.566081   \n",
       "  ...                               ...         ...         ...         ...   \n",
       "  2024-06-24 00:00:00+00:00   69.048968   69.118493   68.981819   69.003447   \n",
       "  2024-06-25 00:00:00+00:00   70.251435   70.329736   70.082135   70.195505   \n",
       "  2024-06-26 00:00:00+00:00   70.473278   70.567158   70.365544   70.451712   \n",
       "  2024-06-27 00:00:00+00:00   69.763086   69.852966   69.754639   69.852017   \n",
       "  2024-06-28 00:00:00+00:00   69.882559   70.029128   69.808294   69.993418   \n",
       "  \n",
       "                                  volume  \n",
       "  2023-07-03 00:00:00+00:00   651.860952  \n",
       "  2023-07-04 00:00:00+00:00  1168.320683  \n",
       "  2023-07-05 00:00:00+00:00   755.631859  \n",
       "  2023-07-06 00:00:00+00:00   825.884527  \n",
       "  2023-07-07 00:00:00+00:00   945.136236  \n",
       "  ...                                ...  \n",
       "  2024-06-24 00:00:00+00:00  1300.073507  \n",
       "  2024-06-25 00:00:00+00:00   894.491100  \n",
       "  2024-06-26 00:00:00+00:00   918.433595  \n",
       "  2024-06-27 00:00:00+00:00   510.224256  \n",
       "  2024-06-28 00:00:00+00:00  1090.641788  \n",
       "  \n",
       "  [260 rows x 5 columns])]"
      ]
     },
     "execution_count": 11,
     "metadata": {},
     "output_type": "execute_result"
    }
   ],
   "source": [
    "start = \"2023-07-01\"\n",
    "end = None\n",
    "\n",
    "data = get_all_equities(force_refresh=True, start_date=start, end_date=end)\n",
    "data = {t: df for t, df in data.items() if t in selected_assets}\n",
    "logger.info(\"Loaded price data for %d tickers\", len(data))\n",
    "list(data.items())[:2]  # show sample"
   ]
  },
  {
   "cell_type": "markdown",
   "id": "fcf70396",
   "metadata": {},
   "source": [
    "## 4 – Feature engineering"
   ]
  },
  {
   "cell_type": "code",
   "execution_count": 12,
   "id": "7167f748",
   "metadata": {},
   "outputs": [
    {
     "name": "stderr",
     "output_type": "stream",
     "text": [
      "2025-07-29 11:50:23,734 | INFO | Feature engineering complete.\n"
     ]
    }
   ],
   "source": [
    "processed = {}\n",
    "for t, df in data.items():\n",
    "    df = add_returns(df, price_col=\"close\", out_col=p[\"features\"][\"return_col\"])\n",
    "    df.dropna(subset=[p[\"features\"][\"return_col\"]], inplace=True)\n",
    "    df = add_rolling_features(\n",
    "        df, col=p[\"features\"][\"return_col\"], windows=p[\"features\"][\"windows\"]\n",
    "    )\n",
    "    processed[t] = df\n",
    "logger.info(\"Feature engineering complete.\")"
   ]
  },
  {
   "cell_type": "markdown",
   "id": "fa06b59e",
   "metadata": {},
   "source": [
    "## 5 – Prepare X and y matrices"
   ]
  },
  {
   "cell_type": "code",
   "execution_count": 13,
   "id": "3ca6ac28",
   "metadata": {},
   "outputs": [
    {
     "data": {
      "text/html": [
       "<div>\n",
       "<style scoped>\n",
       "    .dataframe tbody tr th:only-of-type {\n",
       "        vertical-align: middle;\n",
       "    }\n",
       "\n",
       "    .dataframe tbody tr th {\n",
       "        vertical-align: top;\n",
       "    }\n",
       "\n",
       "    .dataframe thead th {\n",
       "        text-align: right;\n",
       "    }\n",
       "</style>\n",
       "<table border=\"1\" class=\"dataframe\">\n",
       "  <thead>\n",
       "    <tr style=\"text-align: right;\">\n",
       "      <th></th>\n",
       "      <th></th>\n",
       "      <th>open</th>\n",
       "      <th>high</th>\n",
       "      <th>low</th>\n",
       "      <th>close</th>\n",
       "      <th>volume</th>\n",
       "      <th>returns_mean_5</th>\n",
       "      <th>returns_std_5</th>\n",
       "      <th>returns_mom_5</th>\n",
       "      <th>returns_mean_20</th>\n",
       "      <th>returns_std_20</th>\n",
       "      <th>returns_mom_20</th>\n",
       "      <th>returns_mean_60</th>\n",
       "      <th>returns_std_60</th>\n",
       "      <th>returns_mom_60</th>\n",
       "    </tr>\n",
       "    <tr>\n",
       "      <th>date</th>\n",
       "      <th>ticker</th>\n",
       "      <th></th>\n",
       "      <th></th>\n",
       "      <th></th>\n",
       "      <th></th>\n",
       "      <th></th>\n",
       "      <th></th>\n",
       "      <th></th>\n",
       "      <th></th>\n",
       "      <th></th>\n",
       "      <th></th>\n",
       "      <th></th>\n",
       "      <th></th>\n",
       "      <th></th>\n",
       "      <th></th>\n",
       "    </tr>\n",
       "  </thead>\n",
       "  <tbody>\n",
       "    <tr>\n",
       "      <th>2023-09-25 00:00:00+00:00</th>\n",
       "      <th>LMT</th>\n",
       "      <td>98.311036</td>\n",
       "      <td>98.698778</td>\n",
       "      <td>98.221723</td>\n",
       "      <td>98.515647</td>\n",
       "      <td>1543.102753</td>\n",
       "      <td>-0.001249</td>\n",
       "      <td>0.005099</td>\n",
       "      <td>-0.006246</td>\n",
       "      <td>-0.000760</td>\n",
       "      <td>0.010229</td>\n",
       "      <td>-0.015201</td>\n",
       "      <td>-0.000195</td>\n",
       "      <td>0.010320</td>\n",
       "      <td>-0.011688</td>\n",
       "    </tr>\n",
       "    <tr>\n",
       "      <th>2023-09-26 00:00:00+00:00</th>\n",
       "      <th>LMT</th>\n",
       "      <td>97.544317</td>\n",
       "      <td>97.713195</td>\n",
       "      <td>97.537448</td>\n",
       "      <td>97.562906</td>\n",
       "      <td>1678.316991</td>\n",
       "      <td>-0.001088</td>\n",
       "      <td>0.004809</td>\n",
       "      <td>-0.005440</td>\n",
       "      <td>-0.000644</td>\n",
       "      <td>0.010114</td>\n",
       "      <td>-0.012888</td>\n",
       "      <td>-0.000346</td>\n",
       "      <td>0.010391</td>\n",
       "      <td>-0.020772</td>\n",
       "    </tr>\n",
       "    <tr>\n",
       "      <th>2023-09-27 00:00:00+00:00</th>\n",
       "      <th>LMT</th>\n",
       "      <td>96.033339</td>\n",
       "      <td>96.346777</td>\n",
       "      <td>95.852144</td>\n",
       "      <td>96.186954</td>\n",
       "      <td>1046.576075</td>\n",
       "      <td>-0.004312</td>\n",
       "      <td>0.006684</td>\n",
       "      <td>-0.021562</td>\n",
       "      <td>-0.001013</td>\n",
       "      <td>0.010458</td>\n",
       "      <td>-0.020270</td>\n",
       "      <td>-0.000542</td>\n",
       "      <td>0.010536</td>\n",
       "      <td>-0.032507</td>\n",
       "    </tr>\n",
       "    <tr>\n",
       "      <th>2023-09-28 00:00:00+00:00</th>\n",
       "      <th>LMT</th>\n",
       "      <td>94.665511</td>\n",
       "      <td>94.893794</td>\n",
       "      <td>94.601664</td>\n",
       "      <td>94.742068</td>\n",
       "      <td>674.242834</td>\n",
       "      <td>-0.006765</td>\n",
       "      <td>0.007818</td>\n",
       "      <td>-0.033824</td>\n",
       "      <td>-0.002266</td>\n",
       "      <td>0.010559</td>\n",
       "      <td>-0.045327</td>\n",
       "      <td>-0.000875</td>\n",
       "      <td>0.010672</td>\n",
       "      <td>-0.052493</td>\n",
       "    </tr>\n",
       "    <tr>\n",
       "      <th>2023-09-29 00:00:00+00:00</th>\n",
       "      <th>LMT</th>\n",
       "      <td>95.560860</td>\n",
       "      <td>95.814356</td>\n",
       "      <td>95.423458</td>\n",
       "      <td>95.647315</td>\n",
       "      <td>1468.352002</td>\n",
       "      <td>-0.005070</td>\n",
       "      <td>0.009960</td>\n",
       "      <td>-0.025349</td>\n",
       "      <td>-0.001568</td>\n",
       "      <td>0.010852</td>\n",
       "      <td>-0.031357</td>\n",
       "      <td>-0.000636</td>\n",
       "      <td>0.010742</td>\n",
       "      <td>-0.038133</td>\n",
       "    </tr>\n",
       "  </tbody>\n",
       "</table>\n",
       "</div>"
      ],
      "text/plain": [
       "                                       open       high        low      close  \\\n",
       "date                      ticker                                               \n",
       "2023-09-25 00:00:00+00:00 LMT     98.311036  98.698778  98.221723  98.515647   \n",
       "2023-09-26 00:00:00+00:00 LMT     97.544317  97.713195  97.537448  97.562906   \n",
       "2023-09-27 00:00:00+00:00 LMT     96.033339  96.346777  95.852144  96.186954   \n",
       "2023-09-28 00:00:00+00:00 LMT     94.665511  94.893794  94.601664  94.742068   \n",
       "2023-09-29 00:00:00+00:00 LMT     95.560860  95.814356  95.423458  95.647315   \n",
       "\n",
       "                                       volume  returns_mean_5  returns_std_5  \\\n",
       "date                      ticker                                               \n",
       "2023-09-25 00:00:00+00:00 LMT     1543.102753       -0.001249       0.005099   \n",
       "2023-09-26 00:00:00+00:00 LMT     1678.316991       -0.001088       0.004809   \n",
       "2023-09-27 00:00:00+00:00 LMT     1046.576075       -0.004312       0.006684   \n",
       "2023-09-28 00:00:00+00:00 LMT      674.242834       -0.006765       0.007818   \n",
       "2023-09-29 00:00:00+00:00 LMT     1468.352002       -0.005070       0.009960   \n",
       "\n",
       "                                  returns_mom_5  returns_mean_20  \\\n",
       "date                      ticker                                   \n",
       "2023-09-25 00:00:00+00:00 LMT         -0.006246        -0.000760   \n",
       "2023-09-26 00:00:00+00:00 LMT         -0.005440        -0.000644   \n",
       "2023-09-27 00:00:00+00:00 LMT         -0.021562        -0.001013   \n",
       "2023-09-28 00:00:00+00:00 LMT         -0.033824        -0.002266   \n",
       "2023-09-29 00:00:00+00:00 LMT         -0.025349        -0.001568   \n",
       "\n",
       "                                  returns_std_20  returns_mom_20  \\\n",
       "date                      ticker                                   \n",
       "2023-09-25 00:00:00+00:00 LMT           0.010229       -0.015201   \n",
       "2023-09-26 00:00:00+00:00 LMT           0.010114       -0.012888   \n",
       "2023-09-27 00:00:00+00:00 LMT           0.010458       -0.020270   \n",
       "2023-09-28 00:00:00+00:00 LMT           0.010559       -0.045327   \n",
       "2023-09-29 00:00:00+00:00 LMT           0.010852       -0.031357   \n",
       "\n",
       "                                  returns_mean_60  returns_std_60  \\\n",
       "date                      ticker                                    \n",
       "2023-09-25 00:00:00+00:00 LMT           -0.000195        0.010320   \n",
       "2023-09-26 00:00:00+00:00 LMT           -0.000346        0.010391   \n",
       "2023-09-27 00:00:00+00:00 LMT           -0.000542        0.010536   \n",
       "2023-09-28 00:00:00+00:00 LMT           -0.000875        0.010672   \n",
       "2023-09-29 00:00:00+00:00 LMT           -0.000636        0.010742   \n",
       "\n",
       "                                  returns_mom_60  \n",
       "date                      ticker                  \n",
       "2023-09-25 00:00:00+00:00 LMT          -0.011688  \n",
       "2023-09-26 00:00:00+00:00 LMT          -0.020772  \n",
       "2023-09-27 00:00:00+00:00 LMT          -0.032507  \n",
       "2023-09-28 00:00:00+00:00 LMT          -0.052493  \n",
       "2023-09-29 00:00:00+00:00 LMT          -0.038133  "
      ]
     },
     "execution_count": 13,
     "metadata": {},
     "output_type": "execute_result"
    }
   ],
   "source": [
    "X, y = prepare_feature_matrix(\n",
    "    processed,\n",
    "    windows=p[\"features\"][\"windows\"],\n",
    "    lookahead=1,\n",
    "    return_col=p[\"features\"][\"return_col\"],\n",
    ")\n",
    "benchmark = y.groupby(level=0).mean()\n",
    "X.head()"
   ]
  },
  {
   "cell_type": "markdown",
   "id": "852e9f0f",
   "metadata": {},
   "source": [
    "## 6 – Train XGBoost model"
   ]
  },
  {
   "cell_type": "code",
   "execution_count": 14,
   "id": "8383626b",
   "metadata": {},
   "outputs": [
    {
     "name": "stdout",
     "output_type": "stream",
     "text": [
      "Validation RMSE: 0.012535\n"
     ]
    }
   ],
   "source": [
    "model, rmse = train_model(X, y, params=p[\"model\"], test_size=0.2)\n",
    "print(f\"Validation RMSE: {rmse:.6f}\")"
   ]
  },
  {
   "cell_type": "markdown",
   "id": "2f79bb24",
   "metadata": {},
   "source": [
    "## 7 – Generate predictions"
   ]
  },
  {
   "cell_type": "code",
   "execution_count": 15,
   "id": "2b018d3e",
   "metadata": {},
   "outputs": [
    {
     "data": {
      "text/plain": [
       "date                       ticker\n",
       "2023-09-25 00:00:00+00:00  LMT       0.001680\n",
       "2023-09-26 00:00:00+00:00  LMT       0.000331\n",
       "2023-09-27 00:00:00+00:00  LMT      -0.003165\n",
       "2023-09-28 00:00:00+00:00  LMT       0.000793\n",
       "2023-09-29 00:00:00+00:00  LMT      -0.001639\n",
       "Name: prediction, dtype: float32"
      ]
     },
     "execution_count": 15,
     "metadata": {},
     "output_type": "execute_result"
    }
   ],
   "source": [
    "preds = predict(model, X)\n",
    "preds.head()"
   ]
  },
  {
   "cell_type": "markdown",
   "id": "a5824882",
   "metadata": {},
   "source": [
    "## 8 – Run back‑test"
   ]
  },
  {
   "cell_type": "code",
   "execution_count": 16,
   "id": "0a0b5d63",
   "metadata": {},
   "outputs": [
    {
     "data": {
      "text/plain": [
       "{'total_net_pnl': np.float64(654.2358674453465),\n",
       " 'num_trades': 667,\n",
       " 'hit_rate': np.float64(0.5292353823088456),\n",
       " 'avg_trade_ret': np.float64(0.000980863369483278),\n",
       " 'max_drawdown_abs': 959.903501894705,\n",
       " 'max_drawdown_pct': 1.1629886791995419,\n",
       " 'sharpe': np.float64(-0.7473177482826228),\n",
       " 'alpha': -0.017860126463009492,\n",
       " 'beta': 1.97940431132751,\n",
       " 'alpha_tstat': -0.9412329550619348}"
      ]
     },
     "execution_count": 16,
     "metadata": {},
     "output_type": "execute_result"
    }
   ],
   "source": [
    "results = run_backtest(\n",
    "    predictions=preds,\n",
    "    returns=y,\n",
    "    benchmark_returns=benchmark,\n",
    "    risk_free_rate=p[\"backtest\"].get(\"risk_free_rate\", 0.0),\n",
    "    hold_days=p[\"backtest\"][\"hold_days\"],\n",
    "    top_n=p[\"backtest\"][\"top_n\"],\n",
    "    notional=p[\"backtest\"][\"notional\"],\n",
    "    fee_bps=p[\"backtest\"][\"fee_bps\"],\n",
    ")\n",
    "equity = results[\"equity\"]\n",
    "metrics = results[\"metrics\"]\n",
    "metrics"
   ]
  },
  {
   "cell_type": "markdown",
   "id": "b7f5678a",
   "metadata": {},
   "source": [
    "## 9 – Visualise equity curve"
   ]
  },
  {
   "cell_type": "code",
   "execution_count": 17,
   "id": "f412e472",
   "metadata": {},
   "outputs": [
    {
     "data": {
      "image/png": "[encoded data removed]",
      "text/plain": [
       "<Figure size 1000x500 with 1 Axes>"
      ]
     },
     "metadata": {},
     "output_type": "display_data"
    },
    {
     "data": {
      "text/plain": [
       "<Axes: title={'center': 'Equity Curve – Demo'}, xlabel='Date', ylabel='Cumulative PnL (£)'>"
      ]
     },
     "execution_count": 17,
     "metadata": {},
     "output_type": "execute_result"
    }
   ],
   "source": [
    "plot_equity(equity, title=\"Equity Curve – Demo\", metrics=metrics)"
   ]
  },
  {
   "cell_type": "markdown",
   "id": "38c0d6ff",
   "metadata": {},
   "source": [
    "---\n",
    "### Notebook complete\n",
    "You’ve now stepped through the entire `run_efa.py` workflow interactively. Feel free to tweak parameters in **`params.yaml`** and re‑run individual cells."
   ]
  }
 ],
 "metadata": {
  "kernelspec": {
   "display_name": "quant",
   "language": "python",
   "name": "python3"
  },
  "language_info": {
   "codemirror_mode": {
    "name": "ipython",
    "version": 3
   },
   "file_extension": ".py",
   "mimetype": "text/x-python",
   "name": "python",
   "nbconvert_exporter": "python",
   "pygments_lexer": "ipython3",
   "version": "3.11.8"
  }
 },
 "nbformat": 4,
 "nbformat_minor": 5
}
