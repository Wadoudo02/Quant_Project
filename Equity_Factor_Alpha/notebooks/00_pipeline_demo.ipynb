{
 "cells": [
  {
   "cell_type": "code",
   "execution_count": 1,
   "id": "aaa4bb6a",
   "metadata": {},
   "outputs": [
    {
     "name": "stdout",
     "output_type": "stream",
     "text": [
      "Project root: /Users/wadoudcharbak/Documents/GitHub/Quant_Project/Equity_Factor_Alpha\n"
     ]
    }
   ],
   "source": [
    "# <AUTOGEN_PATH_SETUP>\n",
    "# Ensure project root is on import path & set CWD\n",
    "import sys\n",
    "import os\n",
    "from pathlib import Path\n",
    "\n",
    "cwd = Path.cwd().resolve()\n",
    "if \"notebooks\" in cwd.parts:\n",
    "    root = Path(*cwd.parts[: cwd.parts.index(\"notebooks\")])\n",
    "else:\n",
    "    root = cwd.parent\n",
    "if str(root) not in sys.path:\n",
    "    sys.path.insert(0, str(root))\n",
    "os.chdir(root)\n",
    "print(\"Project root:\", root)"
   ]
  },
  {
   "cell_type": "markdown",
   "id": "1cfa717a",
   "metadata": {},
   "source": [
    "# 00 End‑to‑End Pipeline Demo\n",
    "This notebook mirrors **`run_efa.py`** step‑by‑step so you can run, inspect, and tweak each stage interactively."
   ]
  },
  {
   "cell_type": "code",
   "execution_count": 2,
   "id": "2ead269b",
   "metadata": {},
   "outputs": [],
   "source": [
    "from pathlib import Path\n",
    "import logging\n",
    "\n",
    "from src.config import cfg\n",
    "from src.data_loader import get_all_equities\n",
    "from src.features import add_returns, add_rolling_features, prepare_feature_matrix\n",
    "from src.model import train_model, predict\n",
    "from src.backtest import run_backtest\n",
    "from src.plotting import plot_equity\n",
    "\n",
    "logging.basicConfig(\n",
    "    level=logging.INFO, format=\"%(asctime)s | %(levelname)s | %(message)s\"\n",
    ")\n",
    "logger = logging.getLogger(__name__)"
   ]
  },
  {
   "cell_type": "markdown",
   "id": "1f172c19",
   "metadata": {},
   "source": [
    "## 1 – Load configuration"
   ]
  },
  {
   "cell_type": "code",
   "execution_count": 3,
   "id": "71c25473",
   "metadata": {},
   "outputs": [
    {
     "data": {
      "text/plain": [
       "{'project': {'name': 'Equity Factor Alpha Engine', 'version': '0.1.0'},\n",
       " 'base_currency': 'GBP',\n",
       " 'assets': [{'ticker': 'AAPL'},\n",
       "  {'ticker': 'MSFT'},\n",
       "  {'ticker': 'GOOGL'},\n",
       "  {'ticker': 'AMZN'},\n",
       "  {'ticker': 'NVDA'},\n",
       "  {'ticker': 'ROO'},\n",
       "  {'ticker': 'ITV'}],\n",
       " 'start_date': '2023-10-01',\n",
       " 'end_date': None,\n",
       " 'features': {'return_col': 'returns', 'windows': [5, 20, 60]},\n",
       " 'model': {'objective': 'reg:squarederror',\n",
       "  'max_depth': 3,\n",
       "  'learning_rate': 0.1,\n",
       "  'n_estimators': 200,\n",
       "  'subsample': 0.8,\n",
       "  'colsample_bytree': 0.8},\n",
       " 'backtest': {'hold_days': 5,\n",
       "  'top_n': 2,\n",
       "  'notional': 1000,\n",
       "  'fee_bps': 0.0,\n",
       "  'risk_free_rate': 0.0},\n",
       " 'paths': {'data_raw': 'data_raw',\n",
       "  'data_proc': 'data_proc',\n",
       "  'outputs': 'outputs',\n",
       "  'logs': 'logs'}}"
      ]
     },
     "execution_count": 3,
     "metadata": {},
     "output_type": "execute_result"
    }
   ],
   "source": [
    "p = cfg()\n",
    "p"
   ]
  },
  {
   "cell_type": "markdown",
   "id": "77373445",
   "metadata": {},
   "source": [
    "## 2 – Choose asset universe"
   ]
  },
  {
   "cell_type": "code",
   "execution_count": 4,
   "id": "0845cfdd",
   "metadata": {},
   "outputs": [
    {
     "name": "stdout",
     "output_type": "stream",
     "text": [
      "Selected assets: ['AAPL', 'MSFT', 'GOOGL', 'AMZN', 'NVDA', 'ROO', 'ITV']\n"
     ]
    }
   ],
   "source": [
    "selected_assets = [a[\"ticker\"] for a in p[\"assets\"]]\n",
    "print(\"Selected assets:\", selected_assets)"
   ]
  },
  {
   "cell_type": "markdown",
   "id": "7b8a71c0",
   "metadata": {},
   "source": [
    "## 3 – Download / cache price data"
   ]
  },
  {
   "cell_type": "code",
   "execution_count": 5,
   "id": "8c0ea4cc",
   "metadata": {},
   "outputs": [
    {
     "name": "stdout",
     "output_type": "stream",
     "text": [
      "Warning: 'date'.  Generating synthetic data for AAPL.\n",
      "Warning: 'date'.  Generating synthetic data for GOOGL.\n",
      "Warning: 'date'.  Generating synthetic data for NVDA.\n"
     ]
    },
    {
     "name": "stderr",
     "output_type": "stream",
     "text": [
      "2025-07-29 11:51:47,705 | INFO | Loaded price data for 7 tickers\n"
     ]
    },
    {
     "data": {
      "text/plain": [
       "[('AAPL',\n",
       "                                   open        high         low       close  \\\n",
       "  2023-07-03 00:00:00+00:00   99.840431   99.869652   99.615715   99.728167   \n",
       "  2023-07-04 00:00:00+00:00  100.427534  100.515976  100.164883  100.260322   \n",
       "  2023-07-05 00:00:00+00:00  100.594492  100.954827  100.491231  100.776311   \n",
       "  2023-07-06 00:00:00+00:00   99.610701   99.632835   99.497327   99.601689   \n",
       "  2023-07-07 00:00:00+00:00   98.725040   98.771045   98.650208   98.735754   \n",
       "  ...                               ...         ...         ...         ...   \n",
       "  2024-06-24 00:00:00+00:00  111.671158  111.930175  111.474033  111.758914   \n",
       "  2024-06-25 00:00:00+00:00  113.322628  113.400049  113.096154  113.293609   \n",
       "  2024-06-26 00:00:00+00:00  113.283632  113.415386  113.172806  113.200042   \n",
       "  2024-06-27 00:00:00+00:00  115.017886  115.031444  114.866272  114.884760   \n",
       "  2024-06-28 00:00:00+00:00  114.034397  114.191244  113.488767  113.658548   \n",
       "  \n",
       "                                  volume  \n",
       "  2023-07-03 00:00:00+00:00  1088.164264  \n",
       "  2023-07-04 00:00:00+00:00  1343.906830  \n",
       "  2023-07-05 00:00:00+00:00  1176.956761  \n",
       "  2023-07-06 00:00:00+00:00  1592.833795  \n",
       "  2023-07-07 00:00:00+00:00   988.789917  \n",
       "  ...                                ...  \n",
       "  2024-06-24 00:00:00+00:00  1111.277983  \n",
       "  2024-06-25 00:00:00+00:00   928.370894  \n",
       "  2024-06-26 00:00:00+00:00  1219.591133  \n",
       "  2024-06-27 00:00:00+00:00   892.564528  \n",
       "  2024-06-28 00:00:00+00:00   705.661129  \n",
       "  \n",
       "  [260 rows x 5 columns]),\n",
       " ('MSFT',\n",
       "                               open     high     low    close  volume\n",
       "  date                                                               \n",
       "  2023-07-03 00:00:00+00:00  535.50  535.500  535.50  535.500       0\n",
       "  2023-07-04 00:00:00+00:00  535.50  535.500  535.50  535.500       0\n",
       "  2023-07-05 00:00:00+00:00  537.25  537.250  537.25  537.250       0\n",
       "  2023-07-06 00:00:00+00:00  538.25  538.250  537.75  537.750     250\n",
       "  2023-07-07 00:00:00+00:00  532.75  532.750  532.75  532.750       0\n",
       "  ...                           ...      ...     ...      ...     ...\n",
       "  2025-07-23 00:00:00+00:00  771.00  771.000  753.50  753.500       3\n",
       "  2025-07-24 00:00:00+00:00  761.50  761.500  761.50  761.500     131\n",
       "  2025-07-25 00:00:00+00:00  761.50  778.250  761.50  778.250       2\n",
       "  2025-07-28 00:00:00+00:00  761.50  778.125  761.50  778.125      45\n",
       "  2025-07-29 00:00:00+00:00  786.00  786.000  786.00  786.000      52\n",
       "  \n",
       "  [521 rows x 5 columns])]"
      ]
     },
     "execution_count": 5,
     "metadata": {},
     "output_type": "execute_result"
    }
   ],
   "source": [
    "start = \"2023-07-01\"\n",
    "end = None\n",
    "\n",
    "data = get_all_equities(force_refresh=True, start_date=start, end_date=end)\n",
    "data = {t: df for t, df in data.items() if t in selected_assets}\n",
    "logger.info(\"Loaded price data for %d tickers\", len(data))\n",
    "list(data.items())[:2]  # show sample"
   ]
  },
  {
   "cell_type": "markdown",
   "id": "fcf70396",
   "metadata": {},
   "source": [
    "## 4 – Feature engineering"
   ]
  },
  {
   "cell_type": "code",
   "execution_count": 6,
   "id": "7167f748",
   "metadata": {},
   "outputs": [
    {
     "name": "stderr",
     "output_type": "stream",
     "text": [
      "2025-07-29 11:51:47,728 | INFO | Feature engineering complete.\n"
     ]
    }
   ],
   "source": [
    "processed = {}\n",
    "for t, df in data.items():\n",
    "    df = add_returns(df, price_col=\"close\", out_col=p[\"features\"][\"return_col\"])\n",
    "    df.dropna(subset=[p[\"features\"][\"return_col\"]], inplace=True)\n",
    "    df = add_rolling_features(\n",
    "        df, col=p[\"features\"][\"return_col\"], windows=p[\"features\"][\"windows\"]\n",
    "    )\n",
    "    processed[t] = df\n",
    "logger.info(\"Feature engineering complete.\")"
   ]
  },
  {
   "cell_type": "markdown",
   "id": "fa06b59e",
   "metadata": {},
   "source": [
    "## 5 – Prepare X and y matrices"
   ]
  },
  {
   "cell_type": "code",
   "execution_count": 7,
   "id": "3ca6ac28",
   "metadata": {},
   "outputs": [
    {
     "data": {
      "text/html": [
       "<div>\n",
       "<style scoped>\n",
       "    .dataframe tbody tr th:only-of-type {\n",
       "        vertical-align: middle;\n",
       "    }\n",
       "\n",
       "    .dataframe tbody tr th {\n",
       "        vertical-align: top;\n",
       "    }\n",
       "\n",
       "    .dataframe thead th {\n",
       "        text-align: right;\n",
       "    }\n",
       "</style>\n",
       "<table border=\"1\" class=\"dataframe\">\n",
       "  <thead>\n",
       "    <tr style=\"text-align: right;\">\n",
       "      <th></th>\n",
       "      <th></th>\n",
       "      <th>open</th>\n",
       "      <th>high</th>\n",
       "      <th>low</th>\n",
       "      <th>close</th>\n",
       "      <th>volume</th>\n",
       "      <th>returns_mean_5</th>\n",
       "      <th>returns_std_5</th>\n",
       "      <th>returns_mom_5</th>\n",
       "      <th>returns_mean_20</th>\n",
       "      <th>returns_std_20</th>\n",
       "      <th>returns_mom_20</th>\n",
       "      <th>returns_mean_60</th>\n",
       "      <th>returns_std_60</th>\n",
       "      <th>returns_mom_60</th>\n",
       "    </tr>\n",
       "    <tr>\n",
       "      <th>date</th>\n",
       "      <th>ticker</th>\n",
       "      <th></th>\n",
       "      <th></th>\n",
       "      <th></th>\n",
       "      <th></th>\n",
       "      <th></th>\n",
       "      <th></th>\n",
       "      <th></th>\n",
       "      <th></th>\n",
       "      <th></th>\n",
       "      <th></th>\n",
       "      <th></th>\n",
       "      <th></th>\n",
       "      <th></th>\n",
       "      <th></th>\n",
       "    </tr>\n",
       "  </thead>\n",
       "  <tbody>\n",
       "    <tr>\n",
       "      <th>2023-09-25 00:00:00+00:00</th>\n",
       "      <th>AAPL</th>\n",
       "      <td>110.517764</td>\n",
       "      <td>110.674299</td>\n",
       "      <td>110.345890</td>\n",
       "      <td>110.598147</td>\n",
       "      <td>845.023539</td>\n",
       "      <td>0.002466</td>\n",
       "      <td>0.010235</td>\n",
       "      <td>0.012329</td>\n",
       "      <td>0.002330</td>\n",
       "      <td>0.008400</td>\n",
       "      <td>0.046609</td>\n",
       "      <td>0.001778</td>\n",
       "      <td>0.010201</td>\n",
       "      <td>0.106662</td>\n",
       "    </tr>\n",
       "    <tr>\n",
       "      <th>2023-09-26 00:00:00+00:00</th>\n",
       "      <th>AAPL</th>\n",
       "      <td>110.921221</td>\n",
       "      <td>111.173723</td>\n",
       "      <td>110.726371</td>\n",
       "      <td>110.966439</td>\n",
       "      <td>1607.694702</td>\n",
       "      <td>0.003891</td>\n",
       "      <td>0.009749</td>\n",
       "      <td>0.019455</td>\n",
       "      <td>0.001904</td>\n",
       "      <td>0.008118</td>\n",
       "      <td>0.038080</td>\n",
       "      <td>0.001744</td>\n",
       "      <td>0.010193</td>\n",
       "      <td>0.104656</td>\n",
       "    </tr>\n",
       "    <tr>\n",
       "      <th>2023-09-27 00:00:00+00:00</th>\n",
       "      <th>AAPL</th>\n",
       "      <td>112.854588</td>\n",
       "      <td>112.935009</td>\n",
       "      <td>112.634571</td>\n",
       "      <td>112.786871</td>\n",
       "      <td>1045.050761</td>\n",
       "      <td>0.003793</td>\n",
       "      <td>0.009619</td>\n",
       "      <td>0.018965</td>\n",
       "      <td>0.001985</td>\n",
       "      <td>0.008253</td>\n",
       "      <td>0.039708</td>\n",
       "      <td>0.001932</td>\n",
       "      <td>0.010356</td>\n",
       "      <td>0.115914</td>\n",
       "    </tr>\n",
       "    <tr>\n",
       "      <th>2023-09-28 00:00:00+00:00</th>\n",
       "      <th>AAPL</th>\n",
       "      <td>111.632688</td>\n",
       "      <td>111.645060</td>\n",
       "      <td>111.535200</td>\n",
       "      <td>111.578205</td>\n",
       "      <td>995.510520</td>\n",
       "      <td>0.002240</td>\n",
       "      <td>0.011096</td>\n",
       "      <td>0.011199</td>\n",
       "      <td>0.002017</td>\n",
       "      <td>0.008203</td>\n",
       "      <td>0.040347</td>\n",
       "      <td>0.001948</td>\n",
       "      <td>0.010336</td>\n",
       "      <td>0.116854</td>\n",
       "    </tr>\n",
       "    <tr>\n",
       "      <th>2023-09-29 00:00:00+00:00</th>\n",
       "      <th>AAPL</th>\n",
       "      <td>112.351428</td>\n",
       "      <td>112.539325</td>\n",
       "      <td>112.182975</td>\n",
       "      <td>112.379498</td>\n",
       "      <td>1165.096738</td>\n",
       "      <td>0.001252</td>\n",
       "      <td>0.010369</td>\n",
       "      <td>0.006261</td>\n",
       "      <td>0.002481</td>\n",
       "      <td>0.008220</td>\n",
       "      <td>0.049613</td>\n",
       "      <td>0.002212</td>\n",
       "      <td>0.010263</td>\n",
       "      <td>0.132729</td>\n",
       "    </tr>\n",
       "  </tbody>\n",
       "</table>\n",
       "</div>"
      ],
      "text/plain": [
       "                                        open        high         low  \\\n",
       "date                      ticker                                       \n",
       "2023-09-25 00:00:00+00:00 AAPL    110.517764  110.674299  110.345890   \n",
       "2023-09-26 00:00:00+00:00 AAPL    110.921221  111.173723  110.726371   \n",
       "2023-09-27 00:00:00+00:00 AAPL    112.854588  112.935009  112.634571   \n",
       "2023-09-28 00:00:00+00:00 AAPL    111.632688  111.645060  111.535200   \n",
       "2023-09-29 00:00:00+00:00 AAPL    112.351428  112.539325  112.182975   \n",
       "\n",
       "                                       close       volume  returns_mean_5  \\\n",
       "date                      ticker                                            \n",
       "2023-09-25 00:00:00+00:00 AAPL    110.598147   845.023539        0.002466   \n",
       "2023-09-26 00:00:00+00:00 AAPL    110.966439  1607.694702        0.003891   \n",
       "2023-09-27 00:00:00+00:00 AAPL    112.786871  1045.050761        0.003793   \n",
       "2023-09-28 00:00:00+00:00 AAPL    111.578205   995.510520        0.002240   \n",
       "2023-09-29 00:00:00+00:00 AAPL    112.379498  1165.096738        0.001252   \n",
       "\n",
       "                                  returns_std_5  returns_mom_5  \\\n",
       "date                      ticker                                 \n",
       "2023-09-25 00:00:00+00:00 AAPL         0.010235       0.012329   \n",
       "2023-09-26 00:00:00+00:00 AAPL         0.009749       0.019455   \n",
       "2023-09-27 00:00:00+00:00 AAPL         0.009619       0.018965   \n",
       "2023-09-28 00:00:00+00:00 AAPL         0.011096       0.011199   \n",
       "2023-09-29 00:00:00+00:00 AAPL         0.010369       0.006261   \n",
       "\n",
       "                                  returns_mean_20  returns_std_20  \\\n",
       "date                      ticker                                    \n",
       "2023-09-25 00:00:00+00:00 AAPL           0.002330        0.008400   \n",
       "2023-09-26 00:00:00+00:00 AAPL           0.001904        0.008118   \n",
       "2023-09-27 00:00:00+00:00 AAPL           0.001985        0.008253   \n",
       "2023-09-28 00:00:00+00:00 AAPL           0.002017        0.008203   \n",
       "2023-09-29 00:00:00+00:00 AAPL           0.002481        0.008220   \n",
       "\n",
       "                                  returns_mom_20  returns_mean_60  \\\n",
       "date                      ticker                                    \n",
       "2023-09-25 00:00:00+00:00 AAPL          0.046609         0.001778   \n",
       "2023-09-26 00:00:00+00:00 AAPL          0.038080         0.001744   \n",
       "2023-09-27 00:00:00+00:00 AAPL          0.039708         0.001932   \n",
       "2023-09-28 00:00:00+00:00 AAPL          0.040347         0.001948   \n",
       "2023-09-29 00:00:00+00:00 AAPL          0.049613         0.002212   \n",
       "\n",
       "                                  returns_std_60  returns_mom_60  \n",
       "date                      ticker                                  \n",
       "2023-09-25 00:00:00+00:00 AAPL          0.010201        0.106662  \n",
       "2023-09-26 00:00:00+00:00 AAPL          0.010193        0.104656  \n",
       "2023-09-27 00:00:00+00:00 AAPL          0.010356        0.115914  \n",
       "2023-09-28 00:00:00+00:00 AAPL          0.010336        0.116854  \n",
       "2023-09-29 00:00:00+00:00 AAPL          0.010263        0.132729  "
      ]
     },
     "execution_count": 7,
     "metadata": {},
     "output_type": "execute_result"
    }
   ],
   "source": [
    "X, y = prepare_feature_matrix(\n",
    "    processed,\n",
    "    windows=p[\"features\"][\"windows\"],\n",
    "    lookahead=1,\n",
    "    return_col=p[\"features\"][\"return_col\"],\n",
    ")\n",
    "benchmark = y.groupby(level=0).mean()\n",
    "X.head()"
   ]
  },
  {
   "cell_type": "markdown",
   "id": "852e9f0f",
   "metadata": {},
   "source": [
    "## 6 – Train XGBoost model"
   ]
  },
  {
   "cell_type": "code",
   "execution_count": 8,
   "id": "8383626b",
   "metadata": {},
   "outputs": [
    {
     "name": "stdout",
     "output_type": "stream",
     "text": [
      "Validation RMSE: 0.016843\n"
     ]
    }
   ],
   "source": [
    "model, rmse = train_model(X, y, params=p[\"model\"], test_size=0.2)\n",
    "print(f\"Validation RMSE: {rmse:.6f}\")"
   ]
  },
  {
   "cell_type": "markdown",
   "id": "2f79bb24",
   "metadata": {},
   "source": [
    "## 7 – Generate predictions"
   ]
  },
  {
   "cell_type": "code",
   "execution_count": 9,
   "id": "2b018d3e",
   "metadata": {},
   "outputs": [
    {
     "data": {
      "text/plain": [
       "date                       ticker\n",
       "2023-09-25 00:00:00+00:00  AAPL     -0.000659\n",
       "2023-09-26 00:00:00+00:00  AAPL      0.001028\n",
       "2023-09-27 00:00:00+00:00  AAPL     -0.000542\n",
       "2023-09-28 00:00:00+00:00  AAPL     -0.000305\n",
       "2023-09-29 00:00:00+00:00  AAPL      0.001240\n",
       "Name: prediction, dtype: float32"
      ]
     },
     "execution_count": 9,
     "metadata": {},
     "output_type": "execute_result"
    }
   ],
   "source": [
    "preds = predict(model, X)\n",
    "preds.head()"
   ]
  },
  {
   "cell_type": "markdown",
   "id": "a5824882",
   "metadata": {},
   "source": [
    "## 8 – Run back‑test"
   ]
  },
  {
   "cell_type": "code",
   "execution_count": 10,
   "id": "0a0b5d63",
   "metadata": {},
   "outputs": [
    {
     "data": {
      "text/plain": [
       "{'total_net_pnl': np.float64(1419.7451548626473),\n",
       " 'num_trades': 936,\n",
       " 'hit_rate': np.float64(0.5021367521367521),\n",
       " 'avg_trade_ret': np.float64(0.0015168217466481272),\n",
       " 'max_drawdown_abs': 2466.672240043912,\n",
       " 'max_drawdown_pct': 0.7337338731284465,\n",
       " 'sharpe': np.float64(1.3297018595858816),\n",
       " 'alpha': 0.04212059236273155,\n",
       " 'beta': 7.530826090763089,\n",
       " 'alpha_tstat': 1.3282250394864061}"
      ]
     },
     "execution_count": 10,
     "metadata": {},
     "output_type": "execute_result"
    }
   ],
   "source": [
    "results = run_backtest(\n",
    "    predictions=preds,\n",
    "    returns=y,\n",
    "    benchmark_returns=benchmark,\n",
    "    risk_free_rate=p[\"backtest\"].get(\"risk_free_rate\", 0.0),\n",
    "    hold_days=p[\"backtest\"][\"hold_days\"],\n",
    "    top_n=p[\"backtest\"][\"top_n\"],\n",
    "    notional=p[\"backtest\"][\"notional\"],\n",
    "    fee_bps=p[\"backtest\"][\"fee_bps\"],\n",
    ")\n",
    "equity = results[\"equity\"]\n",
    "metrics = results[\"metrics\"]\n",
    "metrics"
   ]
  },
  {
   "cell_type": "markdown",
   "id": "b7f5678a",
   "metadata": {},
   "source": [
    "## 9 – Visualise equity curve"
   ]
  },
  {
   "cell_type": "code",
   "execution_count": 11,
   "id": "f412e472",
   "metadata": {},
   "outputs": [
    {
     "data": {
      "image/png": "[encoded data removed]",
      "text/plain": [
       "<Figure size 1000x500 with 1 Axes>"
      ]
     },
     "metadata": {},
     "output_type": "display_data"
    },
    {
     "data": {
      "text/plain": [
       "<Axes: title={'center': 'Equity Curve – Demo'}, xlabel='Date', ylabel='Cumulative PnL (£)'>"
      ]
     },
     "execution_count": 11,
     "metadata": {},
     "output_type": "execute_result"
    }
   ],
   "source": [
    "plot_equity(equity, title=\"Equity Curve – Demo\", metrics=metrics)"
   ]
  },
  {
   "cell_type": "markdown",
   "id": "38c0d6ff",
   "metadata": {},
   "source": [
    "---\n",
    "### Notebook complete\n",
    "You’ve now stepped through the entire `run_efa.py` workflow interactively. Feel free to tweak parameters in **`params.yaml`** and re‑run individual cells."
   ]
  }
 ],
 "metadata": {
  "kernelspec": {
   "display_name": "quant",
   "language": "python",
   "name": "python3"
  },
  "language_info": {
   "codemirror_mode": {
    "name": "ipython",
    "version": 3
   },
   "file_extension": ".py",
   "mimetype": "text/x-python",
   "name": "python",
   "nbconvert_exporter": "python",
   "pygments_lexer": "ipython3",
   "version": "3.11.8"
  }
 },
 "nbformat": 4,
 "nbformat_minor": 5
}
