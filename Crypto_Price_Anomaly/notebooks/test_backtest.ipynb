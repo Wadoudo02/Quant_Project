{
 "cells": [
  {
   "cell_type": "code",
   "execution_count": 1,
   "id": "7c74983e",
   "metadata": {},
   "outputs": [],
   "source": [
    "%run _bootstrap.py\n",
    "%load_ext autoreload\n",
    "%autoreload 2"
   ]
  },
  {
   "cell_type": "code",
   "execution_count": 2,
   "id": "c7ce91fa",
   "metadata": {},
   "outputs": [],
   "source": [
    "# ------------------------------------------------------------\n",
    "# 1. Imports from your own codebase\n",
    "# ------------------------------------------------------------\n",
    "import numpy as np\n",
    "import pandas as pd\n",
    "\n",
    "from src.signal_logic import signal_from_zscore\n",
    "from src.backtest     import run_backtest"
   ]
  },
  {
   "cell_type": "code",
   "execution_count": 3,
   "id": "48ae68a9",
   "metadata": {},
   "outputs": [],
   "source": [
    "# ------------------------------------------------------------\n",
    "# 2. Make a *toy* OHLCV DataFrame to test the pipeline\n",
    "#    (Here: a geometric Brownian motion price path)\n",
    "# ------------------------------------------------------------\n",
    "np.random.seed(42)                       # reproducible\n",
    "\n",
    "n_bars      = 2_000                      # ≈ 2k five-minute bars ~ 1 week of data\n",
    "dt          = 1/24/12                    # 5-minute fraction of a day\n",
    "mu, sigma   = 0.00, 0.04                 # drift & vol per √day\n",
    "\n",
    "# Simulate log-price path\n",
    "dW          = np.random.normal(scale=np.sqrt(dt), size=n_bars)\n",
    "log_price   = np.cumsum((mu - 0.5 * sigma**2) * dt + sigma * dW)\n",
    "price       = np.exp(log_price) * 1_000  # start around $1k\n",
    "\n",
    "idx = pd.date_range(\"2024-01-01\", periods=n_bars, freq=\"5min\")\n",
    "df  = pd.DataFrame({\"open\": price}, index=idx)"
   ]
  },
  {
   "cell_type": "code",
   "execution_count": 4,
   "id": "946a5ff1",
   "metadata": {},
   "outputs": [],
   "source": [
    "# ------------------------------------------------------------\n",
    "# 2. Make a *toy* OHLCV DataFrame to test the pipeline\n",
    "#    (Here: a geometric Brownian motion price path)\n",
    "# ------------------------------------------------------------\n",
    "np.random.seed(42)                       # reproducible\n",
    "\n",
    "n_bars      = 2_000                      # ≈ 2k five-minute bars ~ 1 week of data\n",
    "dt          = 1/24/12                    # 5-minute fraction of a day\n",
    "mu, sigma   = 0.00, 0.04                 # drift & vol per √day\n",
    "\n",
    "# Simulate log-price path\n",
    "dW          = np.random.normal(scale=np.sqrt(dt), size=n_bars)\n",
    "log_price   = np.cumsum((mu - 0.5 * sigma**2) * dt + sigma * dW)\n",
    "price       = np.exp(log_price) * 1_000  # start around $1k\n",
    "\n",
    "idx = pd.date_range(\"2024-01-01\", periods=n_bars, freq=\"5min\")\n",
    "df  = pd.DataFrame({\"open\": price}, index=idx)"
   ]
  },
  {
   "cell_type": "code",
   "execution_count": 5,
   "id": "bed790f1",
   "metadata": {},
   "outputs": [],
   "source": [
    "# ------------------------------------------------------------\n",
    "# 3. Feature engineering – log-returns + rolling Z-score\n",
    "# ------------------------------------------------------------\n",
    "df[\"log_return\"] = np.log(df[\"open\"]).diff()\n",
    "\n",
    "# Rolling Z-score of returns (window=96 ⇒ one trading day of 5-min bars)\n",
    "ret_mean  = df[\"log_return\"].rolling(96).mean()\n",
    "ret_std   = df[\"log_return\"].rolling(96).std()\n",
    "df[\"zscore\"] = (df[\"log_return\"] - ret_mean) / ret_std"
   ]
  },
  {
   "cell_type": "code",
   "execution_count": 6,
   "id": "8efa51a4",
   "metadata": {},
   "outputs": [
    {
     "name": "stdout",
     "output_type": "stream",
     "text": [
      "Signals fired: 49\n"
     ]
    }
   ],
   "source": [
    "# ------------------------------------------------------------\n",
    "# 4. Generate entry signal using *your* helper\n",
    "# ------------------------------------------------------------\n",
    "sig = signal_from_zscore(df, z_col=\"zscore\",\n",
    "                         threshold=2.0,   # feel free to tweak\n",
    "                         mode=\"follow\")   # or 'fade'\n",
    "print(\"Signals fired:\", sig.sum())"
   ]
  },
  {
   "cell_type": "code",
   "execution_count": 8,
   "id": "3a8692c8",
   "metadata": {},
   "outputs": [
    {
     "name": "stderr",
     "output_type": "stream",
     "text": [
      "/Users/wadoudcharbak/Documents/GitHub/Quant_Project/Crypto_Price_Anomaly/src/metrics.py:115: FutureWarning: Series.fillna with 'method' is deprecated and will raise in a future version. Use obj.ffill() or obj.bfill() instead.\n",
      "  eq = pd.Series(equity).fillna(method=\"ffill\")  # handle any interior NaNs\n"
     ]
    },
    {
     "ename": "AttributeError",
     "evalue": "'float' object has no attribute 'total_seconds'",
     "output_type": "error",
     "traceback": [
      "\u001b[31m---------------------------------------------------------------------------\u001b[39m",
      "\u001b[31mAttributeError\u001b[39m                            Traceback (most recent call last)",
      "\u001b[36mCell\u001b[39m\u001b[36m \u001b[39m\u001b[32mIn[8]\u001b[39m\u001b[32m, line 4\u001b[39m\n\u001b[32m      1\u001b[39m \u001b[38;5;66;03m# ------------------------------------------------------------\u001b[39;00m\n\u001b[32m      2\u001b[39m \u001b[38;5;66;03m# 5. Run the back-test\u001b[39;00m\n\u001b[32m      3\u001b[39m \u001b[38;5;66;03m# ------------------------------------------------------------\u001b[39;00m\n\u001b[32m----> \u001b[39m\u001b[32m4\u001b[39m bt = \u001b[43mrun_backtest\u001b[49m\u001b[43m(\u001b[49m\n\u001b[32m      5\u001b[39m \u001b[43m    \u001b[49m\u001b[43mdf\u001b[49m\u001b[43m,\u001b[49m\u001b[43m \u001b[49m\u001b[43msig\u001b[49m\u001b[43m,\u001b[49m\n\u001b[32m      6\u001b[39m \u001b[43m    \u001b[49m\u001b[43mhold_bars\u001b[49m\u001b[43m \u001b[49m\u001b[43m=\u001b[49m\u001b[43m \u001b[49m\u001b[32;43m12\u001b[39;49m\u001b[43m,\u001b[49m\u001b[43m     \u001b[49m\u001b[38;5;66;43;03m# hold one hour (12 × 5-min bars)\u001b[39;49;00m\n\u001b[32m      7\u001b[39m \u001b[43m    \u001b[49m\u001b[43mfee_bps\u001b[49m\u001b[43m   \u001b[49m\u001b[43m=\u001b[49m\u001b[43m \u001b[49m\u001b[32;43m5\u001b[39;49m\u001b[43m,\u001b[49m\u001b[43m      \u001b[49m\u001b[38;5;66;43;03m# 0.05 % per side\u001b[39;49;00m\n\u001b[32m      8\u001b[39m \u001b[43m    \u001b[49m\u001b[43mnotional\u001b[49m\u001b[43m  \u001b[49m\u001b[43m=\u001b[49m\u001b[43m \u001b[49m\u001b[32;43m1_000\u001b[39;49m\u001b[43m,\u001b[49m\u001b[43m  \u001b[49m\u001b[38;5;66;43;03m# $1 000 per trade\u001b[39;49;00m\n\u001b[32m      9\u001b[39m \u001b[43m)\u001b[49m\n\u001b[32m     11\u001b[39m trades  = bt[\u001b[33m\"\u001b[39m\u001b[33mtrades\u001b[39m\u001b[33m\"\u001b[39m]\n\u001b[32m     12\u001b[39m equity  = bt[\u001b[33m\"\u001b[39m\u001b[33mequity\u001b[39m\u001b[33m\"\u001b[39m]\n",
      "\u001b[36mFile \u001b[39m\u001b[32m~/Documents/GitHub/Quant_Project/Crypto_Price_Anomaly/src/backtest.py:180\u001b[39m, in \u001b[36mrun_backtest\u001b[39m\u001b[34m(df, signal, hold_bars, fee_bps, notional)\u001b[39m\n\u001b[32m    169\u001b[39m     equity_ret = equity.diff().fillna(\u001b[32m0.0\u001b[39m)\n\u001b[32m    171\u001b[39m     dd_abs, dd_pct = max_drawdown(equity)\n\u001b[32m    173\u001b[39m     metrics = {\n\u001b[32m    174\u001b[39m         \u001b[33m'\u001b[39m\u001b[33mtotal_net_pnl\u001b[39m\u001b[33m'\u001b[39m: trades[\u001b[33m'\u001b[39m\u001b[33mnet_pnl\u001b[39m\u001b[33m'\u001b[39m].sum(),\n\u001b[32m    175\u001b[39m         \u001b[33m'\u001b[39m\u001b[33mnum_trades\u001b[39m\u001b[33m'\u001b[39m: \u001b[38;5;28mlen\u001b[39m(trades),\n\u001b[32m    176\u001b[39m         \u001b[33m'\u001b[39m\u001b[33mhit_rate\u001b[39m\u001b[33m'\u001b[39m: (trades[\u001b[33m'\u001b[39m\u001b[33mgross_ret\u001b[39m\u001b[33m'\u001b[39m] > \u001b[32m0\u001b[39m).mean(),\n\u001b[32m    177\u001b[39m         \u001b[33m'\u001b[39m\u001b[33mavg_trade_ret\u001b[39m\u001b[33m'\u001b[39m: trades[\u001b[33m'\u001b[39m\u001b[33mgross_ret\u001b[39m\u001b[33m'\u001b[39m].mean(),\n\u001b[32m    178\u001b[39m         \u001b[33m'\u001b[39m\u001b[33mmax_drawdown_abs\u001b[39m\u001b[33m'\u001b[39m: \u001b[38;5;28mfloat\u001b[39m(dd_abs),\n\u001b[32m    179\u001b[39m         \u001b[33m'\u001b[39m\u001b[33mmax_drawdown_pct\u001b[39m\u001b[33m'\u001b[39m: \u001b[38;5;28mfloat\u001b[39m(dd_pct),\n\u001b[32m--> \u001b[39m\u001b[32m180\u001b[39m         \u001b[33m'\u001b[39m\u001b[33msharpe\u001b[39m\u001b[33m'\u001b[39m: \u001b[43msharpe_ratio\u001b[49m\u001b[43m(\u001b[49m\u001b[43mequity_ret\u001b[49m\u001b[43m)\u001b[49m,\n\u001b[32m    181\u001b[39m     }\n\u001b[32m    183\u001b[39m \u001b[38;5;28;01mreturn\u001b[39;00m {\u001b[33m'\u001b[39m\u001b[33mtrades\u001b[39m\u001b[33m'\u001b[39m: trades, \u001b[33m'\u001b[39m\u001b[33mequity\u001b[39m\u001b[33m'\u001b[39m: equity, \u001b[33m'\u001b[39m\u001b[33mmetrics\u001b[39m\u001b[33m'\u001b[39m: metrics}\n",
      "\u001b[36mFile \u001b[39m\u001b[32m~/Documents/GitHub/Quant_Project/Crypto_Price_Anomaly/src/metrics.py:81\u001b[39m, in \u001b[36msharpe_ratio\u001b[39m\u001b[34m(returns, risk_free_rate, periods_per_year, ddof)\u001b[39m\n\u001b[32m     78\u001b[39m     \u001b[38;5;28;01mreturn\u001b[39;00m np.nan\n\u001b[32m     80\u001b[39m \u001b[38;5;28;01mif\u001b[39;00m periods_per_year \u001b[38;5;129;01mis\u001b[39;00m \u001b[38;5;28;01mNone\u001b[39;00m:\n\u001b[32m---> \u001b[39m\u001b[32m81\u001b[39m     periods_per_year = \u001b[43m_infer_periods_per_year\u001b[49m\u001b[43m(\u001b[49m\u001b[43mr\u001b[49m\u001b[43m.\u001b[49m\u001b[43mindex\u001b[49m\u001b[43m)\u001b[49m\n\u001b[32m     83\u001b[39m \u001b[38;5;66;03m# Convert annual RF to per-period RF so units match\u001b[39;00m\n\u001b[32m     84\u001b[39m rf_per_period = risk_free_rate / periods_per_year\n",
      "\u001b[36mFile \u001b[39m\u001b[32m~/Documents/GitHub/Quant_Project/Crypto_Price_Anomaly/src/metrics.py:38\u001b[39m, in \u001b[36m_infer_periods_per_year\u001b[39m\u001b[34m(idx)\u001b[39m\n\u001b[32m     35\u001b[39m \u001b[38;5;28;01mif\u001b[39;00m pd.isna(median_step) \u001b[38;5;129;01mor\u001b[39;00m median_step == pd.Timedelta(\u001b[32m0\u001b[39m):\n\u001b[32m     36\u001b[39m     \u001b[38;5;28;01mreturn\u001b[39;00m \u001b[32m252.0\u001b[39m\n\u001b[32m---> \u001b[39m\u001b[32m38\u001b[39m \u001b[38;5;28;01mreturn\u001b[39;00m \u001b[43m(\u001b[49m\u001b[43mpd\u001b[49m\u001b[43m.\u001b[49m\u001b[43mTimedelta\u001b[49m\u001b[43m(\u001b[49m\u001b[43mdays\u001b[49m\u001b[43m=\u001b[49m\u001b[32;43m365\u001b[39;49m\u001b[43m)\u001b[49m\u001b[43m \u001b[49m\u001b[43m/\u001b[49m\u001b[43m \u001b[49m\u001b[43mmedian_step\u001b[49m\u001b[43m)\u001b[49m\u001b[43m.\u001b[49m\u001b[43mtotal_seconds\u001b[49m()\n",
      "\u001b[31mAttributeError\u001b[39m: 'float' object has no attribute 'total_seconds'"
     ]
    }
   ],
   "source": [
    "# ------------------------------------------------------------\n",
    "# 5. Run the back-test\n",
    "# ------------------------------------------------------------\n",
    "bt = run_backtest(\n",
    "    df, sig,\n",
    "    hold_bars = 12,     # hold one hour (12 × 5-min bars)\n",
    "    fee_bps   = 5,      # 0.05 % per side\n",
    "    notional  = 1_000,  # $1 000 per trade\n",
    ")\n",
    "\n",
    "trades  = bt[\"trades\"]\n",
    "equity  = bt[\"equity\"]\n",
    "metrics = bt[\"metrics\"]\n",
    "\n",
    "print(\"Headline metrics:\\n\", metrics)"
   ]
  },
  {
   "cell_type": "code",
   "execution_count": null,
   "id": "a295fb0e",
   "metadata": {},
   "outputs": [],
   "source": [
    "# ------------------------------------------------------------\n",
    "# 6. Quick sanity checks\n",
    "# ------------------------------------------------------------\n",
    "# Display the first few trades (if any)\n",
    "trades.head()"
   ]
  },
  {
   "cell_type": "code",
   "execution_count": null,
   "id": "d48d8f9a",
   "metadata": {},
   "outputs": [],
   "source": [
    "# Basic equity-curve plot – *optional* (comment out if you haven't installed matplotlib)\n",
    "import matplotlib.pyplot as plt\n",
    "\n",
    "fig, ax = plt.subplots()\n",
    "equity.plot(ax=ax, label=\"Cumulative Net PnL\")\n",
    "df[\"open\"].pct_change().cumsum().plot(ax=ax, secondary_y=True,\n",
    "                                      style=\":\", label=\"Cum log-return\")\n",
    "ax.set_title(\"Back-test Equity vs. Underlying (toy data)\")\n",
    "ax.legend(loc=\"upper left\")\n",
    "plt.show()"
   ]
  }
 ],
 "metadata": {
  "kernelspec": {
   "display_name": "quant",
   "language": "python",
   "name": "python3"
  },
  "language_info": {
   "codemirror_mode": {
    "name": "ipython",
    "version": 3
   },
   "file_extension": ".py",
   "mimetype": "text/x-python",
   "name": "python",
   "nbconvert_exporter": "python",
   "pygments_lexer": "ipython3",
   "version": "3.11.8"
  }
 },
 "nbformat": 4,
 "nbformat_minor": 5
}
