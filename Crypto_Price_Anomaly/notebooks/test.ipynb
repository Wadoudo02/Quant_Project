{
 "cells": [
  {
   "cell_type": "code",
   "execution_count": 5,
   "id": "624a38ff",
   "metadata": {},
   "outputs": [
    {
     "name": "stdout",
     "output_type": "stream",
     "text": [
      "The autoreload extension is already loaded. To reload it, use:\n",
      "  %reload_ext autoreload\n"
     ]
    }
   ],
   "source": [
    "%run _bootstrap.py\n",
    "%load_ext autoreload\n",
    "%autoreload 2"
   ]
  },
  {
   "cell_type": "code",
   "execution_count": 2,
   "id": "312ea5f5",
   "metadata": {},
   "outputs": [
    {
     "name": "stdout",
     "output_type": "stream",
     "text": [
      "pyarrow 16.1.0 \n",
      "pandas  2.3.0 \n",
      "python  3.11.8\n"
     ]
    }
   ],
   "source": [
    "import pyarrow, pandas, sys; \\\n",
    "           print('pyarrow', pyarrow.__version__, \\\n",
    "                 '\\npandas ', pandas.__version__, \\\n",
    "                 '\\npython ', sys.version.split()[0])"
   ]
  },
  {
   "cell_type": "code",
   "execution_count": 6,
   "id": "42ac51a0",
   "metadata": {},
   "outputs": [],
   "source": [
    "# Option A – simplest: don't reload any compiled libs\n",
    "%autoreload 2\n",
    "%aimport -numpy -pandas -pyarrow -ccxt   # the leading '-' = *exclude*\n",
    "\n"
   ]
  },
  {
   "cell_type": "code",
   "execution_count": 7,
   "id": "a026a2d3",
   "metadata": {},
   "outputs": [
    {
     "name": "stdout",
     "output_type": "stream",
     "text": [
      "                                open       high        low      close  \\\n",
      "timestamp                                                               \n",
      "2025-07-18 15:30:00+00:00  117760.00  118021.71  117480.00  117860.25   \n",
      "2025-07-18 16:00:00+00:00  117860.24  118054.92  117530.68  117607.57   \n",
      "2025-07-18 16:30:00+00:00  117607.57  118012.73  117479.92  117553.42   \n",
      "2025-07-18 17:00:00+00:00  117553.41  117996.49  117377.00  117924.01   \n",
      "2025-07-18 17:30:00+00:00  117924.00  117973.52  117885.04  117950.91   \n",
      "\n",
      "                              volume  \n",
      "timestamp                             \n",
      "2025-07-18 15:30:00+00:00  402.47649  \n",
      "2025-07-18 16:00:00+00:00  411.96789  \n",
      "2025-07-18 16:30:00+00:00  331.94160  \n",
      "2025-07-18 17:00:00+00:00  278.33861  \n",
      "2025-07-18 17:30:00+00:00   15.33341  \n"
     ]
    }
   ],
   "source": [
    "from src.data_loader import get_asset_df\n",
    "df = get_asset_df(\"BTC/USDT\")\n",
    "print(df.tail())"
   ]
  },
  {
   "cell_type": "code",
   "execution_count": 8,
   "id": "0054dda1",
   "metadata": {},
   "outputs": [],
   "source": [
    "df.index.freq  # should show <30 * Minutes>"
   ]
  },
  {
   "cell_type": "code",
   "execution_count": 11,
   "id": "49395709",
   "metadata": {},
   "outputs": [
    {
     "name": "stdout",
     "output_type": "stream",
     "text": [
      "                                open       high        low      close  \\\n",
      "timestamp                                                               \n",
      "2025-06-27 22:00:00+00:00  107052.01  107190.21  107052.01  107100.70   \n",
      "2025-06-27 23:00:00+00:00  107100.70  107171.23  106961.70  107047.59   \n",
      "2025-06-28 00:00:00+00:00  107047.58  107176.68  106847.59  107064.19   \n",
      "2025-06-28 01:00:00+00:00  107064.20  107129.33  106811.51  107066.19   \n",
      "2025-06-28 02:00:00+00:00  107066.19  107200.00  107015.70  107110.00   \n",
      "...                              ...        ...        ...        ...   \n",
      "2025-07-18 13:00:00+00:00  119442.43  119442.44  118500.00  118773.38   \n",
      "2025-07-18 14:00:00+00:00  118773.38  119242.63  117315.69  118139.99   \n",
      "2025-07-18 15:00:00+00:00  118139.99  118265.96  117480.00  117860.25   \n",
      "2025-07-18 16:00:00+00:00  117860.24  118054.92  117479.92  117553.42   \n",
      "2025-07-18 17:00:00+00:00  117553.41  117996.49  117377.00  117950.91   \n",
      "\n",
      "                               volume   log_ret  \n",
      "timestamp                                        \n",
      "2025-06-27 22:00:00+00:00   148.83751       NaN  \n",
      "2025-06-27 23:00:00+00:00   169.45870 -0.000496  \n",
      "2025-06-28 00:00:00+00:00   284.90876  0.000155  \n",
      "2025-06-28 01:00:00+00:00   193.38505  0.000019  \n",
      "2025-06-28 02:00:00+00:00   154.46239  0.000409  \n",
      "...                               ...       ...  \n",
      "2025-07-18 13:00:00+00:00  1270.18453 -0.005617  \n",
      "2025-07-18 14:00:00+00:00  2133.86458 -0.005347  \n",
      "2025-07-18 15:00:00+00:00  1035.97451 -0.002371  \n",
      "2025-07-18 16:00:00+00:00   743.90949 -0.002607  \n",
      "2025-07-18 17:00:00+00:00   293.67202  0.003376  \n",
      "\n",
      "[500 rows x 6 columns]\n"
     ]
    }
   ],
   "source": [
    "# 1-hour bars for your anomaly detector\n",
    "import numpy as np\n",
    "df_1h = df.resample(\"1h\").agg(\n",
    "    {\"open\": \"first\",\n",
    "     \"high\": \"max\",\n",
    "     \"low\": \"min\",\n",
    "     \"close\": \"last\",\n",
    "     \"volume\": \"sum\"}\n",
    ")\n",
    "\n",
    "# Add log-returns, z-scores, etc.\n",
    "df_1h[\"log_ret\"] = np.log(df_1h[\"close\"]).diff()\n",
    "\n",
    "print(df_1h)"
   ]
  }
 ],
 "metadata": {
  "kernelspec": {
   "display_name": "quant",
   "language": "python",
   "name": "python3"
  },
  "language_info": {
   "codemirror_mode": {
    "name": "ipython",
    "version": 3
   },
   "file_extension": ".py",
   "mimetype": "text/x-python",
   "name": "python",
   "nbconvert_exporter": "python",
   "pygments_lexer": "ipython3",
   "version": "3.11.13"
  }
 },
 "nbformat": 4,
 "nbformat_minor": 5
}
