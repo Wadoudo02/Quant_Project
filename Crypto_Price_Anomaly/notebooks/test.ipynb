{
 "cells": [
  {
   "cell_type": "code",
   "execution_count": 12,
   "id": "624a38ff",
   "metadata": {},
   "outputs": [
    {
     "name": "stdout",
     "output_type": "stream",
     "text": [
      "The autoreload extension is already loaded. To reload it, use:\n",
      "  %reload_ext autoreload\n"
     ]
    }
   ],
   "source": [
    "%run _bootstrap.py\n",
    "%load_ext autoreload\n",
    "%autoreload 2"
   ]
  },
  {
   "cell_type": "code",
   "execution_count": 13,
   "id": "312ea5f5",
   "metadata": {},
   "outputs": [
    {
     "name": "stdout",
     "output_type": "stream",
     "text": [
      "pyarrow 16.1.0 \n",
      "pandas  2.3.0 \n",
      "python  3.11.8\n"
     ]
    }
   ],
   "source": [
    "import pyarrow, pandas, sys; \\\n",
    "           print('pyarrow', pyarrow.__version__, \\\n",
    "                 '\\npandas ', pandas.__version__, \\\n",
    "                 '\\npython ', sys.version.split()[0])"
   ]
  },
  {
   "cell_type": "code",
   "execution_count": 14,
   "id": "42ac51a0",
   "metadata": {},
   "outputs": [],
   "source": [
    "# Option A – simplest: don't reload any compiled libs\n",
    "%autoreload 2\n",
    "%aimport -numpy -pandas -pyarrow -ccxt   # the leading '-' = *exclude*\n",
    "\n"
   ]
  },
  {
   "cell_type": "code",
   "execution_count": null,
   "id": "a026a2d3",
   "metadata": {},
   "outputs": [
    {
     "ename": "BadRequest",
     "evalue": "binance {\"code\":-1120,\"msg\":\"Invalid interval.\"}",
     "output_type": "error",
     "traceback": [
      "\u001b[31m---------------------------------------------------------------------------\u001b[39m",
      "\u001b[31mHTTPError\u001b[39m                                 Traceback (most recent call last)",
      "\u001b[36mFile \u001b[39m\u001b[32m/opt/anaconda3/envs/quant/lib/python3.11/site-packages/ccxt/base/exchange.py:582\u001b[39m, in \u001b[36mExchange.fetch\u001b[39m\u001b[34m(self, url, method, headers, body)\u001b[39m\n\u001b[32m    581\u001b[39m     \u001b[38;5;28mself\u001b[39m.logger.debug(\u001b[33m\"\u001b[39m\u001b[38;5;132;01m%s\u001b[39;00m\u001b[33m \u001b[39m\u001b[38;5;132;01m%s\u001b[39;00m\u001b[33m, Response: \u001b[39m\u001b[38;5;132;01m%s\u001b[39;00m\u001b[33m \u001b[39m\u001b[38;5;132;01m%s\u001b[39;00m\u001b[33m \u001b[39m\u001b[38;5;132;01m%s\u001b[39;00m\u001b[33m\"\u001b[39m, method, url, http_status_code, headers, http_response)\n\u001b[32m--> \u001b[39m\u001b[32m582\u001b[39m     \u001b[43mresponse\u001b[49m\u001b[43m.\u001b[49m\u001b[43mraise_for_status\u001b[49m\u001b[43m(\u001b[49m\u001b[43m)\u001b[49m\n\u001b[32m    584\u001b[39m \u001b[38;5;28;01mexcept\u001b[39;00m Timeout \u001b[38;5;28;01mas\u001b[39;00m e:\n",
      "\u001b[36mFile \u001b[39m\u001b[32m/opt/anaconda3/envs/quant/lib/python3.11/site-packages/requests/models.py:1026\u001b[39m, in \u001b[36mResponse.raise_for_status\u001b[39m\u001b[34m(self)\u001b[39m\n\u001b[32m   1025\u001b[39m \u001b[38;5;28;01mif\u001b[39;00m http_error_msg:\n\u001b[32m-> \u001b[39m\u001b[32m1026\u001b[39m     \u001b[38;5;28;01mraise\u001b[39;00m HTTPError(http_error_msg, response=\u001b[38;5;28mself\u001b[39m)\n",
      "\u001b[31mHTTPError\u001b[39m: 400 Client Error: Bad Request for url: https://api.binance.com/api/v3/klines?interval=30min&limit=1000&symbol=BTCUSDT",
      "\nDuring handling of the above exception, another exception occurred:\n",
      "\u001b[31mBadRequest\u001b[39m                                Traceback (most recent call last)",
      "\u001b[36mCell\u001b[39m\u001b[36m \u001b[39m\u001b[32mIn[33]\u001b[39m\u001b[32m, line 5\u001b[39m\n\u001b[32m      2\u001b[39m \u001b[38;5;28;01mfrom\u001b[39;00m\u001b[38;5;250m \u001b[39m\u001b[34;01msrc\u001b[39;00m\u001b[34;01m.\u001b[39;00m\u001b[34;01mresample\u001b[39;00m\u001b[38;5;250m \u001b[39m\u001b[38;5;28;01mimport\u001b[39;00m resample_ohlcv\n\u001b[32m      4\u001b[39m \u001b[38;5;66;03m# 1. Load the 1-minute data (cached on disk or fetched once from Binance)\u001b[39;00m\n\u001b[32m----> \u001b[39m\u001b[32m5\u001b[39m df_1m = \u001b[43mget_asset_df\u001b[49m\u001b[43m(\u001b[49m\u001b[33;43m\"\u001b[39;49m\u001b[33;43mBTC/USDT\u001b[39;49m\u001b[33;43m\"\u001b[39;49m\u001b[43m,\u001b[49m\u001b[43m \u001b[49m\u001b[43mtimeframe\u001b[49m\u001b[43m=\u001b[49m\u001b[33;43m\"\u001b[39;49m\u001b[33;43m30min\u001b[39;49m\u001b[33;43m\"\u001b[39;49m\u001b[43m)\u001b[49m\n\u001b[32m      7\u001b[39m \u001b[38;5;66;03m# 2. Aggregate into 6-hour bars: '360T' is 360 minutes\u001b[39;00m\n\u001b[32m      8\u001b[39m df_6h = resample_ohlcv(df_1m, rule=\u001b[33m\"\u001b[39m\u001b[33m15min\u001b[39m\u001b[33m\"\u001b[39m)\n",
      "\u001b[36mFile \u001b[39m\u001b[32m~/Documents/GitHub/Quant_Project/Crypto_Price_Anomaly/src/data_loader.py:238\u001b[39m, in \u001b[36mget_asset_df\u001b[39m\u001b[34m(symbol, exchange_name, timeframe, start_dt, end_dt, force_refresh)\u001b[39m\n\u001b[32m    235\u001b[39m         \u001b[38;5;28;01mreturn\u001b[39;00m cached\n\u001b[32m    237\u001b[39m \u001b[38;5;66;03m# Else download afresh ---------------------------------------------------\u001b[39;00m\n\u001b[32m--> \u001b[39m\u001b[32m238\u001b[39m df = \u001b[43mfetch_full_history\u001b[49m\u001b[43m(\u001b[49m\n\u001b[32m    239\u001b[39m \u001b[43m    \u001b[49m\u001b[43msymbol\u001b[49m\u001b[43m,\u001b[49m\n\u001b[32m    240\u001b[39m \u001b[43m    \u001b[49m\u001b[43mexchange_name\u001b[49m\u001b[43m,\u001b[49m\n\u001b[32m    241\u001b[39m \u001b[43m    \u001b[49m\u001b[43mtimeframe\u001b[49m\u001b[43m,\u001b[49m\n\u001b[32m    242\u001b[39m \u001b[43m    \u001b[49m\u001b[43mstart_dt\u001b[49m\u001b[43m=\u001b[49m\u001b[43mstart_dt\u001b[49m\u001b[43m,\u001b[49m\n\u001b[32m    243\u001b[39m \u001b[43m    \u001b[49m\u001b[43mend_dt\u001b[49m\u001b[43m=\u001b[49m\u001b[43mend_dt\u001b[49m\u001b[43m,\u001b[49m\n\u001b[32m    244\u001b[39m \u001b[43m\u001b[49m\u001b[43m)\u001b[49m\n\u001b[32m    245\u001b[39m _write_cached(df, cache_path)\n\u001b[32m    246\u001b[39m \u001b[38;5;28;01mreturn\u001b[39;00m df\n",
      "\u001b[36mFile \u001b[39m\u001b[32m~/Documents/GitHub/Quant_Project/Crypto_Price_Anomaly/src/data_loader.py:132\u001b[39m, in \u001b[36mfetch_full_history\u001b[39m\u001b[34m(symbol, exchange_name, timeframe, start_dt, end_dt)\u001b[39m\n\u001b[32m    130\u001b[39m all_rows: List[\u001b[38;5;28mlist\u001b[39m] = []\n\u001b[32m    131\u001b[39m \u001b[38;5;28;01mwhile\u001b[39;00m \u001b[38;5;28;01mTrue\u001b[39;00m:\n\u001b[32m--> \u001b[39m\u001b[32m132\u001b[39m     chunk = \u001b[43mfetch_ohlcv_chunk\u001b[49m\u001b[43m(\u001b[49m\n\u001b[32m    133\u001b[39m \u001b[43m        \u001b[49m\u001b[43msymbol\u001b[49m\u001b[43m,\u001b[49m\u001b[43m \u001b[49m\u001b[43mexchange_name\u001b[49m\u001b[43m,\u001b[49m\u001b[43m \u001b[49m\u001b[43mtimeframe\u001b[49m\u001b[43m,\u001b[49m\u001b[43m \u001b[49m\u001b[43msince_ms\u001b[49m\u001b[43m=\u001b[49m\u001b[43msince_ms\u001b[49m\n\u001b[32m    134\u001b[39m \u001b[43m    \u001b[49m\u001b[43m)\u001b[49m\n\u001b[32m    135\u001b[39m     \u001b[38;5;28;01mif\u001b[39;00m \u001b[38;5;129;01mnot\u001b[39;00m chunk:\n\u001b[32m    136\u001b[39m         \u001b[38;5;28;01mbreak\u001b[39;00m\n",
      "\u001b[36mFile \u001b[39m\u001b[32m~/Documents/GitHub/Quant_Project/Crypto_Price_Anomaly/src/data_loader.py:92\u001b[39m, in \u001b[36mfetch_ohlcv_chunk\u001b[39m\u001b[34m(symbol, exchange_name, timeframe, since_ms, limit)\u001b[39m\n\u001b[32m     85\u001b[39m \u001b[38;5;250m\u001b[39m\u001b[33;03m\"\"\"\u001b[39;00m\n\u001b[32m     86\u001b[39m \u001b[33;03mFetch *one* chunk (≤ ``limit`` rows) of candles.\u001b[39;00m\n\u001b[32m     87\u001b[39m \n\u001b[32m     88\u001b[39m \u001b[33;03mReturns the raw list of lists as given by ccxt:\u001b[39;00m\n\u001b[32m     89\u001b[39m \u001b[33;03m``[timestamp, open, high, low, close, volume]``.\u001b[39;00m\n\u001b[32m     90\u001b[39m \u001b[33;03m\"\"\"\u001b[39;00m\n\u001b[32m     91\u001b[39m ex = get_exchange(exchange_name)\n\u001b[32m---> \u001b[39m\u001b[32m92\u001b[39m \u001b[38;5;28;01mreturn\u001b[39;00m \u001b[43mex\u001b[49m\u001b[43m.\u001b[49m\u001b[43mfetch_ohlcv\u001b[49m\u001b[43m(\u001b[49m\n\u001b[32m     93\u001b[39m \u001b[43m    \u001b[49m\u001b[43msymbol\u001b[49m\u001b[43m=\u001b[49m\u001b[43msymbol\u001b[49m\u001b[43m,\u001b[49m\u001b[43m \u001b[49m\u001b[43mtimeframe\u001b[49m\u001b[43m=\u001b[49m\u001b[43mtimeframe\u001b[49m\u001b[43m,\u001b[49m\u001b[43m \u001b[49m\u001b[43msince\u001b[49m\u001b[43m=\u001b[49m\u001b[43msince_ms\u001b[49m\u001b[43m,\u001b[49m\u001b[43m \u001b[49m\u001b[43mlimit\u001b[49m\u001b[43m=\u001b[49m\u001b[43mlimit\u001b[49m\n\u001b[32m     94\u001b[39m \u001b[43m\u001b[49m\u001b[43m)\u001b[49m\n",
      "\u001b[36mFile \u001b[39m\u001b[32m/opt/anaconda3/envs/quant/lib/python3.11/site-packages/ccxt/binance.py:4512\u001b[39m, in \u001b[36mbinance.fetch_ohlcv\u001b[39m\u001b[34m(self, symbol, timeframe, since, limit, params)\u001b[39m\n\u001b[32m   4510\u001b[39m     response = \u001b[38;5;28mself\u001b[39m.dapiPublicGetKlines(\u001b[38;5;28mself\u001b[39m.extend(request, params))\n\u001b[32m   4511\u001b[39m \u001b[38;5;28;01melse\u001b[39;00m:\n\u001b[32m-> \u001b[39m\u001b[32m4512\u001b[39m     response = \u001b[38;5;28;43mself\u001b[39;49m\u001b[43m.\u001b[49m\u001b[43mpublicGetKlines\u001b[49m\u001b[43m(\u001b[49m\u001b[38;5;28;43mself\u001b[39;49m\u001b[43m.\u001b[49m\u001b[43mextend\u001b[49m\u001b[43m(\u001b[49m\u001b[43mrequest\u001b[49m\u001b[43m,\u001b[49m\u001b[43m \u001b[49m\u001b[43mparams\u001b[49m\u001b[43m)\u001b[49m\u001b[43m)\u001b[49m\n\u001b[32m   4513\u001b[39m \u001b[38;5;66;03m#\u001b[39;00m\n\u001b[32m   4514\u001b[39m \u001b[38;5;66;03m#     [\u001b[39;00m\n\u001b[32m   4515\u001b[39m \u001b[38;5;66;03m#         [1591478520000,\"0.02501300\",\"0.02501800\",\"0.02500000\",\"0.02500000\",\"22.19000000\",1591478579999,\"0.55490906\",40,\"10.92900000\",\"0.27336462\",\"0\"],\u001b[39;00m\n\u001b[32m   (...)\u001b[39m\u001b[32m   4537\u001b[39m \u001b[38;5;66;03m#     ]\u001b[39;00m\n\u001b[32m   4538\u001b[39m \u001b[38;5;66;03m#\u001b[39;00m\n\u001b[32m   4539\u001b[39m candles = \u001b[38;5;28mself\u001b[39m.parse_ohlcvs(response, market, timeframe, since, limit)\n",
      "\u001b[36mFile \u001b[39m\u001b[32m/opt/anaconda3/envs/quant/lib/python3.11/site-packages/ccxt/base/types.py:35\u001b[39m, in \u001b[36mEntry.__init__.<locals>.unbound_method\u001b[39m\u001b[34m(_self, params)\u001b[39m\n\u001b[32m     34\u001b[39m \u001b[38;5;28;01mdef\u001b[39;00m\u001b[38;5;250m \u001b[39m\u001b[34munbound_method\u001b[39m(_self, params={}):\n\u001b[32m---> \u001b[39m\u001b[32m35\u001b[39m     \u001b[38;5;28;01mreturn\u001b[39;00m \u001b[43m_self\u001b[49m\u001b[43m.\u001b[49m\u001b[43mrequest\u001b[49m\u001b[43m(\u001b[49m\u001b[38;5;28;43mself\u001b[39;49m\u001b[43m.\u001b[49m\u001b[43mpath\u001b[49m\u001b[43m,\u001b[49m\u001b[43m \u001b[49m\u001b[38;5;28;43mself\u001b[39;49m\u001b[43m.\u001b[49m\u001b[43mapi\u001b[49m\u001b[43m,\u001b[49m\u001b[43m \u001b[49m\u001b[38;5;28;43mself\u001b[39;49m\u001b[43m.\u001b[49m\u001b[43mmethod\u001b[49m\u001b[43m,\u001b[49m\u001b[43m \u001b[49m\u001b[43mparams\u001b[49m\u001b[43m,\u001b[49m\u001b[43m \u001b[49m\u001b[43mconfig\u001b[49m\u001b[43m=\u001b[49m\u001b[38;5;28;43mself\u001b[39;49m\u001b[43m.\u001b[49m\u001b[43mconfig\u001b[49m\u001b[43m)\u001b[49m\n",
      "\u001b[36mFile \u001b[39m\u001b[32m/opt/anaconda3/envs/quant/lib/python3.11/site-packages/ccxt/binance.py:11338\u001b[39m, in \u001b[36mbinance.request\u001b[39m\u001b[34m(self, path, api, method, params, headers, body, config)\u001b[39m\n\u001b[32m  11337\u001b[39m \u001b[38;5;28;01mdef\u001b[39;00m\u001b[38;5;250m \u001b[39m\u001b[34mrequest\u001b[39m(\u001b[38;5;28mself\u001b[39m, path, api=\u001b[33m'\u001b[39m\u001b[33mpublic\u001b[39m\u001b[33m'\u001b[39m, method=\u001b[33m'\u001b[39m\u001b[33mGET\u001b[39m\u001b[33m'\u001b[39m, params={}, headers=\u001b[38;5;28;01mNone\u001b[39;00m, body=\u001b[38;5;28;01mNone\u001b[39;00m, config={}):\n\u001b[32m> \u001b[39m\u001b[32m11338\u001b[39m     response = \u001b[38;5;28;43mself\u001b[39;49m\u001b[43m.\u001b[49m\u001b[43mfetch2\u001b[49m\u001b[43m(\u001b[49m\u001b[43mpath\u001b[49m\u001b[43m,\u001b[49m\u001b[43m \u001b[49m\u001b[43mapi\u001b[49m\u001b[43m,\u001b[49m\u001b[43m \u001b[49m\u001b[43mmethod\u001b[49m\u001b[43m,\u001b[49m\u001b[43m \u001b[49m\u001b[43mparams\u001b[49m\u001b[43m,\u001b[49m\u001b[43m \u001b[49m\u001b[43mheaders\u001b[49m\u001b[43m,\u001b[49m\u001b[43m \u001b[49m\u001b[43mbody\u001b[49m\u001b[43m,\u001b[49m\u001b[43m \u001b[49m\u001b[43mconfig\u001b[49m\u001b[43m)\u001b[49m\n\u001b[32m  11339\u001b[39m     \u001b[38;5;66;03m# a workaround for {\"code\":-2015,\"msg\":\"Invalid API-key, IP, or permissions for action.\"}\u001b[39;00m\n\u001b[32m  11340\u001b[39m     \u001b[38;5;28;01mif\u001b[39;00m api == \u001b[33m'\u001b[39m\u001b[33mprivate\u001b[39m\u001b[33m'\u001b[39m:\n",
      "\u001b[36mFile \u001b[39m\u001b[32m/opt/anaconda3/envs/quant/lib/python3.11/site-packages/ccxt/base/exchange.py:4527\u001b[39m, in \u001b[36mExchange.fetch2\u001b[39m\u001b[34m(self, path, api, method, params, headers, body, config)\u001b[39m\n\u001b[32m   4525\u001b[39m                 \u001b[38;5;28;01mraise\u001b[39;00m e\n\u001b[32m   4526\u001b[39m         \u001b[38;5;28;01melse\u001b[39;00m:\n\u001b[32m-> \u001b[39m\u001b[32m4527\u001b[39m             \u001b[38;5;28;01mraise\u001b[39;00m e\n\u001b[32m   4528\u001b[39m \u001b[38;5;28;01mreturn\u001b[39;00m \u001b[38;5;28;01mNone\u001b[39;00m\n",
      "\u001b[36mFile \u001b[39m\u001b[32m/opt/anaconda3/envs/quant/lib/python3.11/site-packages/ccxt/base/exchange.py:4516\u001b[39m, in \u001b[36mExchange.fetch2\u001b[39m\u001b[34m(self, path, api, method, params, headers, body, config)\u001b[39m\n\u001b[32m   4514\u001b[39m \u001b[38;5;28;01mfor\u001b[39;00m i \u001b[38;5;129;01min\u001b[39;00m \u001b[38;5;28mrange\u001b[39m(\u001b[32m0\u001b[39m, retries + \u001b[32m1\u001b[39m):\n\u001b[32m   4515\u001b[39m     \u001b[38;5;28;01mtry\u001b[39;00m:\n\u001b[32m-> \u001b[39m\u001b[32m4516\u001b[39m         \u001b[38;5;28;01mreturn\u001b[39;00m \u001b[38;5;28;43mself\u001b[39;49m\u001b[43m.\u001b[49m\u001b[43mfetch\u001b[49m\u001b[43m(\u001b[49m\u001b[43mrequest\u001b[49m\u001b[43m[\u001b[49m\u001b[33;43m'\u001b[39;49m\u001b[33;43murl\u001b[39;49m\u001b[33;43m'\u001b[39;49m\u001b[43m]\u001b[49m\u001b[43m,\u001b[49m\u001b[43m \u001b[49m\u001b[43mrequest\u001b[49m\u001b[43m[\u001b[49m\u001b[33;43m'\u001b[39;49m\u001b[33;43mmethod\u001b[39;49m\u001b[33;43m'\u001b[39;49m\u001b[43m]\u001b[49m\u001b[43m,\u001b[49m\u001b[43m \u001b[49m\u001b[43mrequest\u001b[49m\u001b[43m[\u001b[49m\u001b[33;43m'\u001b[39;49m\u001b[33;43mheaders\u001b[39;49m\u001b[33;43m'\u001b[39;49m\u001b[43m]\u001b[49m\u001b[43m,\u001b[49m\u001b[43m \u001b[49m\u001b[43mrequest\u001b[49m\u001b[43m[\u001b[49m\u001b[33;43m'\u001b[39;49m\u001b[33;43mbody\u001b[39;49m\u001b[33;43m'\u001b[39;49m\u001b[43m]\u001b[49m\u001b[43m)\u001b[49m\n\u001b[32m   4517\u001b[39m     \u001b[38;5;28;01mexcept\u001b[39;00m \u001b[38;5;167;01mException\u001b[39;00m \u001b[38;5;28;01mas\u001b[39;00m e:\n\u001b[32m   4518\u001b[39m         \u001b[38;5;28;01mif\u001b[39;00m \u001b[38;5;28misinstance\u001b[39m(e, OperationFailed):\n",
      "\u001b[36mFile \u001b[39m\u001b[32m/opt/anaconda3/envs/quant/lib/python3.11/site-packages/ccxt/base/exchange.py:598\u001b[39m, in \u001b[36mExchange.fetch\u001b[39m\u001b[34m(self, url, method, headers, body)\u001b[39m\n\u001b[32m    596\u001b[39m \u001b[38;5;28;01mexcept\u001b[39;00m HTTPError \u001b[38;5;28;01mas\u001b[39;00m e:\n\u001b[32m    597\u001b[39m     details = \u001b[33m'\u001b[39m\u001b[33m \u001b[39m\u001b[33m'\u001b[39m.join([\u001b[38;5;28mself\u001b[39m.id, method, url])\n\u001b[32m--> \u001b[39m\u001b[32m598\u001b[39m     skip_further_error_handling = \u001b[38;5;28;43mself\u001b[39;49m\u001b[43m.\u001b[49m\u001b[43mhandle_errors\u001b[49m\u001b[43m(\u001b[49m\u001b[43mhttp_status_code\u001b[49m\u001b[43m,\u001b[49m\u001b[43m \u001b[49m\u001b[43mhttp_status_text\u001b[49m\u001b[43m,\u001b[49m\u001b[43m \u001b[49m\u001b[43murl\u001b[49m\u001b[43m,\u001b[49m\u001b[43m \u001b[49m\u001b[43mmethod\u001b[49m\u001b[43m,\u001b[49m\u001b[43m \u001b[49m\u001b[43mheaders\u001b[49m\u001b[43m,\u001b[49m\u001b[43m \u001b[49m\u001b[43mhttp_response\u001b[49m\u001b[43m,\u001b[49m\u001b[43m \u001b[49m\u001b[43mjson_response\u001b[49m\u001b[43m,\u001b[49m\u001b[43m \u001b[49m\u001b[43mrequest_headers\u001b[49m\u001b[43m,\u001b[49m\u001b[43m \u001b[49m\u001b[43mrequest_body\u001b[49m\u001b[43m)\u001b[49m\n\u001b[32m    599\u001b[39m     \u001b[38;5;28;01mif\u001b[39;00m \u001b[38;5;129;01mnot\u001b[39;00m skip_further_error_handling:\n\u001b[32m    600\u001b[39m         \u001b[38;5;28mself\u001b[39m.handle_http_status_code(http_status_code, http_status_text, url, method, http_response)\n",
      "\u001b[36mFile \u001b[39m\u001b[32m/opt/anaconda3/envs/quant/lib/python3.11/site-packages/ccxt/binance.py:11306\u001b[39m, in \u001b[36mbinance.handle_errors\u001b[39m\u001b[34m(self, code, reason, url, method, headers, body, response, requestHeaders, requestBody)\u001b[39m\n\u001b[32m  11304\u001b[39m         \u001b[38;5;28;01mraise\u001b[39;00m MarginModeAlreadySet(feedback)\n\u001b[32m  11305\u001b[39m     \u001b[38;5;28mself\u001b[39m.throw_exactly_matched_exception(\u001b[38;5;28mself\u001b[39m.get_exceptions_by_url(url, \u001b[33m'\u001b[39m\u001b[33mexact\u001b[39m\u001b[33m'\u001b[39m), error, feedback)\n\u001b[32m> \u001b[39m\u001b[32m11306\u001b[39m     \u001b[38;5;28;43mself\u001b[39;49m\u001b[43m.\u001b[49m\u001b[43mthrow_exactly_matched_exception\u001b[49m\u001b[43m(\u001b[49m\u001b[38;5;28;43mself\u001b[39;49m\u001b[43m.\u001b[49m\u001b[43mexceptions\u001b[49m\u001b[43m[\u001b[49m\u001b[33;43m'\u001b[39;49m\u001b[33;43mexact\u001b[39;49m\u001b[33;43m'\u001b[39;49m\u001b[43m]\u001b[49m\u001b[43m,\u001b[49m\u001b[43m \u001b[49m\u001b[43merror\u001b[49m\u001b[43m,\u001b[49m\u001b[43m \u001b[49m\u001b[43mfeedback\u001b[49m\u001b[43m)\u001b[49m\n\u001b[32m  11307\u001b[39m     \u001b[38;5;28;01mraise\u001b[39;00m ExchangeError(feedback)\n\u001b[32m  11308\u001b[39m \u001b[38;5;28;01mif\u001b[39;00m \u001b[38;5;129;01mnot\u001b[39;00m success:\n",
      "\u001b[36mFile \u001b[39m\u001b[32m/opt/anaconda3/envs/quant/lib/python3.11/site-packages/ccxt/base/exchange.py:4920\u001b[39m, in \u001b[36mExchange.throw_exactly_matched_exception\u001b[39m\u001b[34m(self, exact, string, message)\u001b[39m\n\u001b[32m   4918\u001b[39m     \u001b[38;5;28;01mreturn\u001b[39;00m\n\u001b[32m   4919\u001b[39m \u001b[38;5;28;01mif\u001b[39;00m string \u001b[38;5;129;01min\u001b[39;00m exact:\n\u001b[32m-> \u001b[39m\u001b[32m4920\u001b[39m     \u001b[38;5;28;01mraise\u001b[39;00m exact[string](message)\n",
      "\u001b[31mBadRequest\u001b[39m: binance {\"code\":-1120,\"msg\":\"Invalid interval.\"}"
     ]
    }
   ],
   "source": [
    "from src.data_loader import get_asset_df\n",
    "from src.resample import resample_ohlcv\n",
    "\n",
    "# 1. Load the 1-minute data (cached on disk or fetched once from Binance)\n",
    "df_1m = get_asset_df(\"BTC/USDT\", timeframe=\"1min\")\n",
    "\n",
    "# 2. Aggregate into 6-hour bars: '360T' is 360 minutes\n",
    "df_6h = resample_ohlcv(df_1m, rule=\"15min\")\n",
    "\n",
    "print(df_6h.head())"
   ]
  },
  {
   "cell_type": "code",
   "execution_count": 25,
   "id": "0054dda1",
   "metadata": {},
   "outputs": [
    {
     "name": "stdout",
     "output_type": "stream",
     "text": [
      "None\n"
     ]
    }
   ],
   "source": [
    "print(df_1m.index.freq) # should show <30 * Minutes>"
   ]
  },
  {
   "cell_type": "code",
   "execution_count": null,
   "id": "49395709",
   "metadata": {},
   "outputs": [],
   "source": []
  }
 ],
 "metadata": {
  "kernelspec": {
   "display_name": "quant",
   "language": "python",
   "name": "python3"
  },
  "language_info": {
   "codemirror_mode": {
    "name": "ipython",
    "version": 3
   },
   "file_extension": ".py",
   "mimetype": "text/x-python",
   "name": "python",
   "nbconvert_exporter": "python",
   "pygments_lexer": "ipython3",
   "version": "3.11.13"
  }
 },
 "nbformat": 4,
 "nbformat_minor": 5
}
