{
 "cells": [
  {
   "cell_type": "code",
   "execution_count": 12,
   "id": "624a38ff",
   "metadata": {},
   "outputs": [
    {
     "name": "stdout",
     "output_type": "stream",
     "text": [
      "The autoreload extension is already loaded. To reload it, use:\n",
      "  %reload_ext autoreload\n"
     ]
    }
   ],
   "source": [
    "%run _bootstrap.py\n",
    "%load_ext autoreload\n",
    "%autoreload 2"
   ]
  },
  {
   "cell_type": "code",
   "execution_count": 13,
   "id": "312ea5f5",
   "metadata": {},
   "outputs": [
    {
     "name": "stdout",
     "output_type": "stream",
     "text": [
      "pyarrow 16.1.0 \n",
      "pandas  2.3.0 \n",
      "python  3.11.8\n"
     ]
    }
   ],
   "source": [
    "import pyarrow, pandas, sys; \\\n",
    "           print('pyarrow', pyarrow.__version__, \\\n",
    "                 '\\npandas ', pandas.__version__, \\\n",
    "                 '\\npython ', sys.version.split()[0])"
   ]
  },
  {
   "cell_type": "code",
   "execution_count": 14,
   "id": "42ac51a0",
   "metadata": {},
   "outputs": [],
   "source": [
    "# Option A – simplest: don't reload any compiled libs\n",
    "%autoreload 2\n",
    "%aimport -numpy -pandas -pyarrow -ccxt   # the leading '-' = *exclude*\n",
    "\n"
   ]
  },
  {
   "cell_type": "code",
   "execution_count": 37,
   "id": "a026a2d3",
   "metadata": {},
   "outputs": [
    {
     "name": "stdout",
     "output_type": "stream",
     "text": [
      "                                open       high        low      close  \\\n",
      "timestamp                                                               \n",
      "2025-07-18 19:32:00+00:00  117669.60  117739.71  117655.49  117739.70   \n",
      "2025-07-18 19:34:00+00:00  117739.71  117739.71  117617.27  117631.04   \n",
      "2025-07-18 19:36:00+00:00  117631.03  117631.04  117581.21  117587.96   \n",
      "2025-07-18 19:38:00+00:00  117587.96  117587.97  117534.48  117564.05   \n",
      "2025-07-18 19:40:00+00:00  117564.05  117564.05  117426.05  117471.08   \n",
      "\n",
      "                             volume  \n",
      "timestamp                            \n",
      "2025-07-18 19:32:00+00:00  15.03549  \n",
      "2025-07-18 19:34:00+00:00  16.60830  \n",
      "2025-07-18 19:36:00+00:00  11.10704  \n",
      "2025-07-18 19:38:00+00:00  10.21869  \n",
      "2025-07-18 19:40:00+00:00  23.70565  \n"
     ]
    }
   ],
   "source": [
    "from src.data_loader import get_asset_df\n",
    "from src.resample import resample_ohlcv\n",
    "\n",
    "# 1. Load the 1-minute data (cached on disk or fetched once from Binance)\n",
    "df_1m = get_asset_df(\"BTC/USDT\", timeframe=\"1min\")\n",
    "\n",
    "# 2. Aggregate into 6-hour bars: '360T' is 360 minutes\n",
    "df_6h = resample_ohlcv(df_1m, rule=\"2min\")\n",
    "\n",
    "print(df_6h.head())"
   ]
  },
  {
   "cell_type": "code",
   "execution_count": 36,
   "id": "0054dda1",
   "metadata": {},
   "outputs": [
    {
     "name": "stdout",
     "output_type": "stream",
     "text": [
      "None\n"
     ]
    }
   ],
   "source": [
    "print(df_1m.index.freq) # should show <30 * Minutes>"
   ]
  },
  {
   "cell_type": "code",
   "execution_count": null,
   "id": "49395709",
   "metadata": {},
   "outputs": [],
   "source": []
  }
 ],
 "metadata": {
  "kernelspec": {
   "display_name": "quant",
   "language": "python",
   "name": "python3"
  },
  "language_info": {
   "codemirror_mode": {
    "name": "ipython",
    "version": 3
   },
   "file_extension": ".py",
   "mimetype": "text/x-python",
   "name": "python",
   "nbconvert_exporter": "python",
   "pygments_lexer": "ipython3",
   "version": "3.11.13"
  }
 },
 "nbformat": 4,
 "nbformat_minor": 5
}
